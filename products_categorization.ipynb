{
  "nbformat": 4,
  "nbformat_minor": 0,
  "metadata": {
    "colab": {
      "provenance": [],
      "collapsed_sections": []
    },
    "kernelspec": {
      "name": "python3",
      "display_name": "Python 3"
    },
    "language_info": {
      "name": "python"
    },
    "accelerator": "GPU",
    "gpuClass": "standard"
  },
  "cells": [
    {
      "cell_type": "code",
      "execution_count": 1,
      "metadata": {
        "colab": {
          "base_uri": "https://localhost:8080/"
        },
        "id": "VsJpTmnqJxSv",
        "outputId": "d39edcb6-2c8b-418e-f0e0-bfa7a10c1f60"
      },
      "outputs": [
        {
          "output_type": "stream",
          "name": "stdout",
          "text": [
            "Mounted at /content/gdrive\n"
          ]
        }
      ],
      "source": [
        "import pandas as pd\n",
        "import numpy as np\n",
        "\n",
        "# mounting google drive\n",
        "from google.colab import drive\n",
        "drive.mount('/content/gdrive')"
      ]
    },
    {
      "cell_type": "code",
      "source": [
        "# reading csv dataset file into pandas dataframe\n",
        "dataset_path = '/content/gdrive/MyDrive/Ronash_DS_Assignment.csv'\n",
        "df = pd.read_csv(dataset_path)"
      ],
      "metadata": {
        "id": "7MJQMoYUJ9zO"
      },
      "execution_count": 2,
      "outputs": []
    },
    {
      "cell_type": "code",
      "source": [
        "# reading titles and tags and label columns\n",
        "titles = df['title'].values.tolist()\n",
        "tags = df['tags'].values.tolist()\n",
        "categories = df['category'].values.tolist()\n",
        "unique_categories = pd.unique(df['category'])\n",
        "\n",
        "dataset_size = len(titles)"
      ],
      "metadata": {
        "id": "XJk3VeipOyH5"
      },
      "execution_count": 3,
      "outputs": []
    },
    {
      "cell_type": "code",
      "source": [
        "# one hot encoding the categories\n",
        "from sklearn.preprocessing import LabelBinarizer\n",
        "\n",
        "lb = LabelBinarizer()\n",
        "lb.fit(unique_categories)\n",
        "y = lb.transform(categories)"
      ],
      "metadata": {
        "id": "F3C65O0SOyLL"
      },
      "execution_count": 4,
      "outputs": []
    },
    {
      "cell_type": "code",
      "source": [
        "!pip install keybert\n",
        "!pip install gensim"
      ],
      "metadata": {
        "colab": {
          "base_uri": "https://localhost:8080/"
        },
        "id": "4JK4f7qLJ99K",
        "outputId": "e21a0f36-876d-477c-85e8-f7bc08c281bd"
      },
      "execution_count": 12,
      "outputs": [
        {
          "output_type": "stream",
          "name": "stdout",
          "text": [
            "Looking in indexes: https://pypi.org/simple, https://us-python.pkg.dev/colab-wheels/public/simple/\n",
            "Requirement already satisfied: keybert in /usr/local/lib/python3.7/dist-packages (0.6.0)\n",
            "Requirement already satisfied: numpy>=1.18.5 in /usr/local/lib/python3.7/dist-packages (from keybert) (1.21.6)\n",
            "Requirement already satisfied: sentence-transformers>=0.3.8 in /usr/local/lib/python3.7/dist-packages (from keybert) (2.2.2)\n",
            "Requirement already satisfied: rich>=10.4.0 in /usr/local/lib/python3.7/dist-packages (from keybert) (12.5.1)\n",
            "Requirement already satisfied: scikit-learn>=0.22.2 in /usr/local/lib/python3.7/dist-packages (from keybert) (1.0.2)\n",
            "Requirement already satisfied: commonmark<0.10.0,>=0.9.0 in /usr/local/lib/python3.7/dist-packages (from rich>=10.4.0->keybert) (0.9.1)\n",
            "Requirement already satisfied: pygments<3.0.0,>=2.6.0 in /usr/local/lib/python3.7/dist-packages (from rich>=10.4.0->keybert) (2.6.1)\n",
            "Requirement already satisfied: typing-extensions<5.0,>=4.0.0 in /usr/local/lib/python3.7/dist-packages (from rich>=10.4.0->keybert) (4.1.1)\n",
            "Requirement already satisfied: scipy>=1.1.0 in /usr/local/lib/python3.7/dist-packages (from scikit-learn>=0.22.2->keybert) (1.7.3)\n",
            "Requirement already satisfied: threadpoolctl>=2.0.0 in /usr/local/lib/python3.7/dist-packages (from scikit-learn>=0.22.2->keybert) (3.1.0)\n",
            "Requirement already satisfied: joblib>=0.11 in /usr/local/lib/python3.7/dist-packages (from scikit-learn>=0.22.2->keybert) (1.1.0)\n",
            "Requirement already satisfied: nltk in /usr/local/lib/python3.7/dist-packages (from sentence-transformers>=0.3.8->keybert) (3.7)\n",
            "Requirement already satisfied: torch>=1.6.0 in /usr/local/lib/python3.7/dist-packages (from sentence-transformers>=0.3.8->keybert) (1.12.1+cu113)\n",
            "Requirement already satisfied: torchvision in /usr/local/lib/python3.7/dist-packages (from sentence-transformers>=0.3.8->keybert) (0.13.1+cu113)\n",
            "Requirement already satisfied: sentencepiece in /usr/local/lib/python3.7/dist-packages (from sentence-transformers>=0.3.8->keybert) (0.1.97)\n",
            "Requirement already satisfied: huggingface-hub>=0.4.0 in /usr/local/lib/python3.7/dist-packages (from sentence-transformers>=0.3.8->keybert) (0.9.1)\n",
            "Requirement already satisfied: tqdm in /usr/local/lib/python3.7/dist-packages (from sentence-transformers>=0.3.8->keybert) (4.64.0)\n",
            "Requirement already satisfied: transformers<5.0.0,>=4.6.0 in /usr/local/lib/python3.7/dist-packages (from sentence-transformers>=0.3.8->keybert) (4.21.2)\n",
            "Requirement already satisfied: packaging>=20.9 in /usr/local/lib/python3.7/dist-packages (from huggingface-hub>=0.4.0->sentence-transformers>=0.3.8->keybert) (21.3)\n",
            "Requirement already satisfied: pyyaml>=5.1 in /usr/local/lib/python3.7/dist-packages (from huggingface-hub>=0.4.0->sentence-transformers>=0.3.8->keybert) (6.0)\n",
            "Requirement already satisfied: importlib-metadata in /usr/local/lib/python3.7/dist-packages (from huggingface-hub>=0.4.0->sentence-transformers>=0.3.8->keybert) (4.12.0)\n",
            "Requirement already satisfied: filelock in /usr/local/lib/python3.7/dist-packages (from huggingface-hub>=0.4.0->sentence-transformers>=0.3.8->keybert) (3.8.0)\n",
            "Requirement already satisfied: requests in /usr/local/lib/python3.7/dist-packages (from huggingface-hub>=0.4.0->sentence-transformers>=0.3.8->keybert) (2.23.0)\n",
            "Requirement already satisfied: pyparsing!=3.0.5,>=2.0.2 in /usr/local/lib/python3.7/dist-packages (from packaging>=20.9->huggingface-hub>=0.4.0->sentence-transformers>=0.3.8->keybert) (3.0.9)\n",
            "Requirement already satisfied: regex!=2019.12.17 in /usr/local/lib/python3.7/dist-packages (from transformers<5.0.0,>=4.6.0->sentence-transformers>=0.3.8->keybert) (2022.6.2)\n",
            "Requirement already satisfied: tokenizers!=0.11.3,<0.13,>=0.11.1 in /usr/local/lib/python3.7/dist-packages (from transformers<5.0.0,>=4.6.0->sentence-transformers>=0.3.8->keybert) (0.12.1)\n",
            "Requirement already satisfied: zipp>=0.5 in /usr/local/lib/python3.7/dist-packages (from importlib-metadata->huggingface-hub>=0.4.0->sentence-transformers>=0.3.8->keybert) (3.8.1)\n",
            "Requirement already satisfied: click in /usr/local/lib/python3.7/dist-packages (from nltk->sentence-transformers>=0.3.8->keybert) (7.1.2)\n",
            "Requirement already satisfied: chardet<4,>=3.0.2 in /usr/local/lib/python3.7/dist-packages (from requests->huggingface-hub>=0.4.0->sentence-transformers>=0.3.8->keybert) (3.0.4)\n",
            "Requirement already satisfied: idna<3,>=2.5 in /usr/local/lib/python3.7/dist-packages (from requests->huggingface-hub>=0.4.0->sentence-transformers>=0.3.8->keybert) (2.10)\n",
            "Requirement already satisfied: certifi>=2017.4.17 in /usr/local/lib/python3.7/dist-packages (from requests->huggingface-hub>=0.4.0->sentence-transformers>=0.3.8->keybert) (2022.6.15)\n",
            "Requirement already satisfied: urllib3!=1.25.0,!=1.25.1,<1.26,>=1.21.1 in /usr/local/lib/python3.7/dist-packages (from requests->huggingface-hub>=0.4.0->sentence-transformers>=0.3.8->keybert) (1.24.3)\n",
            "Requirement already satisfied: pillow!=8.3.*,>=5.3.0 in /usr/local/lib/python3.7/dist-packages (from torchvision->sentence-transformers>=0.3.8->keybert) (7.1.2)\n",
            "Looking in indexes: https://pypi.org/simple, https://us-python.pkg.dev/colab-wheels/public/simple/\n",
            "Requirement already satisfied: gensim in /usr/local/lib/python3.7/dist-packages (3.6.0)\n",
            "Requirement already satisfied: smart-open>=1.2.1 in /usr/local/lib/python3.7/dist-packages (from gensim) (5.2.1)\n",
            "Requirement already satisfied: six>=1.5.0 in /usr/local/lib/python3.7/dist-packages (from gensim) (1.15.0)\n",
            "Requirement already satisfied: numpy>=1.11.3 in /usr/local/lib/python3.7/dist-packages (from gensim) (1.21.6)\n",
            "Requirement already satisfied: scipy>=0.18.1 in /usr/local/lib/python3.7/dist-packages (from gensim) (1.7.3)\n"
          ]
        }
      ]
    },
    {
      "cell_type": "code",
      "source": [
        "import string\n",
        "import re\n",
        "import nltk\n",
        "nltk.download('stopwords')\n",
        "nltk.download('wordnet')\n",
        "nltk.download('omw-1.4')\n",
        "from nltk.stem.porter import PorterStemmer\n",
        "from nltk.stem import WordNetLemmatizer\n",
        "import tokenize\n",
        "from keybert import KeyBERT\n",
        "import nltk\n",
        "nltk.download('words')\n",
        "\n",
        "# preprocessing eteps applied on the title coulmn\n",
        "def title_preprocessing(title, wordnet_lemmatizer, translator):\n",
        "    title = title.translate(translator)\n",
        "    title = title.lower()\n",
        "    tokens = title.split()\n",
        "    stopwords = nltk.corpus.stopwords.words('english')\n",
        "    tokens = [i for i in tokens if i not in stopwords]\n",
        "    lemm_text = [wordnet_lemmatizer.lemmatize(word) for word in tokens]\n",
        "    return lemm_text\n",
        "'''\n",
        "preprocessing eteps applied on the tags coulmn \n",
        "(almost the same as the title_preprocessing plus keyword extracting step)\n",
        "'''\n",
        "def tag_preprocessing(tag, kw_model, wordnet_lemmatizer, translator):\n",
        "    tag = tag.translate(translator)\n",
        "    tag = tag.lower()\n",
        "    keywords = kw_model.extract_keywords(tag, stop_words=None)\n",
        "    tags_keywords = []\n",
        "    for (key, value) in keywords:\n",
        "        tags_keywords.append(key)\n",
        "    lemm_text = [wordnet_lemmatizer.lemmatize(word) for word in tags_keywords]\n",
        "    return lemm_text"
      ],
      "metadata": {
        "colab": {
          "base_uri": "https://localhost:8080/"
        },
        "id": "q9JpT9GjJ-AC",
        "outputId": "f073187f-e026-42c0-f3cd-80c146ecf305"
      },
      "execution_count": 13,
      "outputs": [
        {
          "output_type": "stream",
          "name": "stderr",
          "text": [
            "[nltk_data] Downloading package stopwords to /root/nltk_data...\n",
            "[nltk_data]   Unzipping corpora/stopwords.zip.\n",
            "[nltk_data] Downloading package wordnet to /root/nltk_data...\n",
            "[nltk_data] Downloading package omw-1.4 to /root/nltk_data...\n",
            "[nltk_data] Downloading package words to /root/nltk_data...\n",
            "[nltk_data]   Unzipping corpora/words.zip.\n"
          ]
        }
      ]
    },
    {
      "cell_type": "code",
      "source": [
        "# applying preprocessing methods on tags and titles and store returned tokens for each row of the dataframe in 'X' list\n",
        "X = []\n",
        "\n",
        "kw_model = KeyBERT()\n",
        "porter_stemmer = PorterStemmer()\n",
        "wordnet_lemmatizer = WordNetLemmatizer()\n",
        "translator = str.maketrans(string.punctuation, ' '*len(string.punctuation))\n",
        "\n",
        "for idx in range(dataset_size):\n",
        "    if not(idx % 1000): print(idx)\n",
        "    X.append(list(set(title_preprocessing(df['title'][idx], wordnet_lemmatizer, translator) +\n",
        "                      tag_preprocessing(df['tags'][idx], kw_model, wordnet_lemmatizer, translator))))"
      ],
      "metadata": {
        "colab": {
          "base_uri": "https://localhost:8080/"
        },
        "id": "gQEpWg61ORM0",
        "outputId": "adf611d6-08c7-45e0-9434-913f8bf655d3"
      },
      "execution_count": 42,
      "outputs": [
        {
          "output_type": "stream",
          "name": "stdout",
          "text": [
            "0\n",
            "1000\n",
            "2000\n",
            "3000\n",
            "4000\n",
            "5000\n"
          ]
        }
      ]
    },
    {
      "cell_type": "code",
      "source": [
        "from sklearn.utils import shuffle\n",
        "from sklearn.model_selection import train_test_split"
      ],
      "metadata": {
        "id": "pEHoGU6SKUjN"
      },
      "execution_count": 6,
      "outputs": []
    },
    {
      "cell_type": "code",
      "source": [
        "import numpy as np \n",
        "import pandas as pd \n",
        "from keras.layers import Dense, Embedding, LSTM, SpatialDropout1D\n",
        "from keras.models import Sequential\n",
        "from sklearn.feature_extraction.text import CountVectorizer\n",
        "from keras.preprocessing.text import Tokenizer\n",
        "from keras.preprocessing.sequence import pad_sequences\n",
        "from sklearn.model_selection import train_test_split\n",
        "from keras.utils.np_utils import to_categorical\n",
        "from keras.callbacks import EarlyStopping"
      ],
      "metadata": {
        "id": "h1Dx39d27TcR"
      },
      "execution_count": 7,
      "outputs": []
    },
    {
      "cell_type": "code",
      "source": [
        "# make a joined string by concating tags and titles of each row of the df\n",
        "X_new = []\n",
        "\n",
        "for idx in range(dataset_size):\n",
        "    X_new.append(df['title'][idx] + ' ' + df['tags'][idx])"
      ],
      "metadata": {
        "id": "Jz1pFvXiBr07"
      },
      "execution_count": 59,
      "outputs": []
    },
    {
      "cell_type": "code",
      "source": [
        "X_new[0]"
      ],
      "metadata": {
        "colab": {
          "base_uri": "https://localhost:8080/",
          "height": 52
        },
        "id": "xggrHeQvCFfp",
        "outputId": "9e25e8f1-59f6-4aaa-f58a-3da5643af58f"
      },
      "execution_count": 60,
      "outputs": [
        {
          "output_type": "execute_result",
          "data": {
            "text/plain": [
              "\"Fidele Super Premium Adult Large Breed Dog Food ['Adult', 'Bangalore', 'Chennai', 'Chicken', 'Doberman', 'Dog Dry Foods', 'Fidele', 'German Shepherd', 'Golden Retriever', 'Great Dane', 'HighPriority', 'Imported', 'Labrador', 'Less than 1000', 'Less than 2000', 'Less than 500', 'Mastiff', 'Orange Pet Nutrition']\""
            ],
            "application/vnd.google.colaboratory.intrinsic+json": {
              "type": "string"
            }
          },
          "metadata": {},
          "execution_count": 60
        }
      ]
    },
    {
      "cell_type": "code",
      "source": [
        "'''\n",
        "filtering out bad characters from the joined strings list and\n",
        "the ctreate a numerical list for each sentence\n",
        "'''\n",
        "n_most_common_words = 8000\n",
        "max_len = len(max(X,key=len))\n",
        "tokenizer = Tokenizer(num_words=n_most_common_words, \n",
        "                      filters='1234567890!\"#$%&()*+,-./:;<=>?@[\\]^_`{|}~', lower=True)\n",
        "tokenizer.fit_on_texts(X_new)\n",
        "sequences = tokenizer.texts_to_sequences(X_new)\n",
        "\n",
        "X_new = pad_sequences(sequences, maxlen=max_len)"
      ],
      "metadata": {
        "id": "g9ThmRqeVcsD"
      },
      "execution_count": 61,
      "outputs": []
    },
    {
      "cell_type": "code",
      "source": [
        "X_new.shape"
      ],
      "metadata": {
        "colab": {
          "base_uri": "https://localhost:8080/"
        },
        "id": "s9COJram_KSn",
        "outputId": "ad2e9352-c192-492e-c19f-8d880f628dcc"
      },
      "execution_count": 62,
      "outputs": [
        {
          "output_type": "execute_result",
          "data": {
            "text/plain": [
              "(5270, 27)"
            ]
          },
          "metadata": {},
          "execution_count": 62
        }
      ]
    },
    {
      "cell_type": "code",
      "source": [
        "lb = LabelBinarizer()\n",
        "lb.fit(unique_categories)\n",
        "y = lb.transform(categories)\n",
        "\n",
        "# shuffling X and y to get bether results\n",
        "X_new, y = shuffle(X_new, y, random_state=0)\n",
        "\n",
        "# spling X and y into test and train sub-sets\n",
        "X_train, X_test, y_train, y_test = train_test_split(X_new , y, test_size=0.2, random_state=42)"
      ],
      "metadata": {
        "id": "RPBXe7jC7dK7"
      },
      "execution_count": 63,
      "outputs": []
    },
    {
      "cell_type": "code",
      "source": [
        "# setting hyper-parameters\n",
        "epochs = 100\n",
        "emb_dim = 300\n",
        "batch_size = 256"
      ],
      "metadata": {
        "id": "OHKllUHs7dQ0"
      },
      "execution_count": 64,
      "outputs": []
    },
    {
      "cell_type": "code",
      "source": [
        "print((X_train.shape, y_train.shape, X_test.shape, y_test.shape))\n",
        "\n",
        "# creating an LSTM based 20-classes classifier with word embedding layer\n",
        "model = Sequential()\n",
        "model.add(Embedding(n_most_common_words, emb_dim, input_length=X_new.shape[1]))\n",
        "model.add(SpatialDropout1D(0.7))\n",
        "model.add(LSTM(64, dropout=0.5, recurrent_dropout=0.7))\n",
        "#model.add(Dense(32, activation='relu'))\n",
        "model.add(Dense(20, activation='softmax'))\n",
        "model.compile(optimizer='adam', loss='categorical_crossentropy', metrics=['acc'])\n",
        "#print(model.summary())\n",
        "history = model.fit(X_train, y_train, epochs=epochs, batch_size=batch_size,validation_split=0.1,\n",
        "                    callbacks=[EarlyStopping(monitor='val_loss',patience=10, min_delta=0.0001)])"
      ],
      "metadata": {
        "colab": {
          "base_uri": "https://localhost:8080/"
        },
        "id": "3SufSL9Z9Jae",
        "outputId": "2274e22e-9406-437c-e63d-929d2450cf6a"
      },
      "execution_count": 65,
      "outputs": [
        {
          "output_type": "stream",
          "name": "stderr",
          "text": [
            "WARNING:tensorflow:Layer lstm_4 will not use cuDNN kernels since it doesn't meet the criteria. It will use a generic GPU kernel as fallback when running on GPU.\n"
          ]
        },
        {
          "output_type": "stream",
          "name": "stdout",
          "text": [
            "((4216, 27), (4216, 20), (1054, 27), (1054, 20))\n",
            "Epoch 1/100\n",
            "15/15 [==============================] - 5s 170ms/step - loss: 2.9699 - acc: 0.1162 - val_loss: 2.9165 - val_acc: 0.1872\n",
            "Epoch 2/100\n",
            "15/15 [==============================] - 2s 143ms/step - loss: 2.8078 - acc: 0.1924 - val_loss: 2.7185 - val_acc: 0.1872\n",
            "Epoch 3/100\n",
            "15/15 [==============================] - 2s 145ms/step - loss: 2.6528 - acc: 0.1948 - val_loss: 2.6393 - val_acc: 0.1872\n",
            "Epoch 4/100\n",
            "15/15 [==============================] - 2s 140ms/step - loss: 2.5761 - acc: 0.2066 - val_loss: 2.5382 - val_acc: 0.2251\n",
            "Epoch 5/100\n",
            "15/15 [==============================] - 2s 136ms/step - loss: 2.4585 - acc: 0.2588 - val_loss: 2.3807 - val_acc: 0.2701\n",
            "Epoch 6/100\n",
            "15/15 [==============================] - 4s 286ms/step - loss: 2.2734 - acc: 0.3245 - val_loss: 2.2192 - val_acc: 0.3104\n",
            "Epoch 7/100\n",
            "15/15 [==============================] - 2s 138ms/step - loss: 2.0828 - acc: 0.4030 - val_loss: 2.0339 - val_acc: 0.4289\n",
            "Epoch 8/100\n",
            "15/15 [==============================] - 2s 138ms/step - loss: 1.8637 - acc: 0.5058 - val_loss: 1.8340 - val_acc: 0.5000\n",
            "Epoch 9/100\n",
            "15/15 [==============================] - 3s 176ms/step - loss: 1.6777 - acc: 0.5749 - val_loss: 1.6807 - val_acc: 0.5616\n",
            "Epoch 10/100\n",
            "15/15 [==============================] - 2s 145ms/step - loss: 1.4810 - acc: 0.6194 - val_loss: 1.5442 - val_acc: 0.5806\n",
            "Epoch 11/100\n",
            "15/15 [==============================] - 2s 135ms/step - loss: 1.3073 - acc: 0.6716 - val_loss: 1.4547 - val_acc: 0.6161\n",
            "Epoch 12/100\n",
            "15/15 [==============================] - 2s 137ms/step - loss: 1.1656 - acc: 0.7043 - val_loss: 1.4051 - val_acc: 0.6398\n",
            "Epoch 13/100\n",
            "15/15 [==============================] - 2s 135ms/step - loss: 1.0584 - acc: 0.7248 - val_loss: 1.3418 - val_acc: 0.6540\n",
            "Epoch 14/100\n",
            "15/15 [==============================] - 2s 135ms/step - loss: 0.9638 - acc: 0.7567 - val_loss: 1.2687 - val_acc: 0.6730\n",
            "Epoch 15/100\n",
            "15/15 [==============================] - 2s 134ms/step - loss: 0.8612 - acc: 0.7852 - val_loss: 1.2180 - val_acc: 0.6872\n",
            "Epoch 16/100\n",
            "15/15 [==============================] - 2s 139ms/step - loss: 0.7974 - acc: 0.8007 - val_loss: 1.2321 - val_acc: 0.6991\n",
            "Epoch 17/100\n",
            "15/15 [==============================] - 2s 142ms/step - loss: 0.7207 - acc: 0.8192 - val_loss: 1.1844 - val_acc: 0.7133\n",
            "Epoch 18/100\n",
            "15/15 [==============================] - 2s 133ms/step - loss: 0.6620 - acc: 0.8332 - val_loss: 1.1647 - val_acc: 0.7133\n",
            "Epoch 19/100\n",
            "15/15 [==============================] - 2s 144ms/step - loss: 0.6029 - acc: 0.8429 - val_loss: 1.2186 - val_acc: 0.7275\n",
            "Epoch 20/100\n",
            "15/15 [==============================] - 2s 141ms/step - loss: 0.5668 - acc: 0.8535 - val_loss: 1.1864 - val_acc: 0.7370\n",
            "Epoch 21/100\n",
            "15/15 [==============================] - 2s 138ms/step - loss: 0.5216 - acc: 0.8679 - val_loss: 1.1656 - val_acc: 0.7346\n",
            "Epoch 22/100\n",
            "15/15 [==============================] - 2s 140ms/step - loss: 0.4805 - acc: 0.8814 - val_loss: 1.1711 - val_acc: 0.7441\n",
            "Epoch 23/100\n",
            "15/15 [==============================] - 2s 145ms/step - loss: 0.4468 - acc: 0.8901 - val_loss: 1.1894 - val_acc: 0.7322\n",
            "Epoch 24/100\n",
            "15/15 [==============================] - 2s 134ms/step - loss: 0.4149 - acc: 0.8938 - val_loss: 1.2288 - val_acc: 0.7393\n",
            "Epoch 25/100\n",
            "15/15 [==============================] - 2s 137ms/step - loss: 0.3959 - acc: 0.9033 - val_loss: 1.1769 - val_acc: 0.7464\n",
            "Epoch 26/100\n",
            "15/15 [==============================] - 2s 139ms/step - loss: 0.3647 - acc: 0.9083 - val_loss: 1.1704 - val_acc: 0.7536\n",
            "Epoch 27/100\n",
            "15/15 [==============================] - 2s 138ms/step - loss: 0.3469 - acc: 0.9128 - val_loss: 1.1803 - val_acc: 0.7536\n",
            "Epoch 28/100\n",
            "15/15 [==============================] - 2s 140ms/step - loss: 0.3108 - acc: 0.9228 - val_loss: 1.1804 - val_acc: 0.7607\n"
          ]
        }
      ]
    },
    {
      "cell_type": "code",
      "source": [
        "loss, accuracy = model.evaluate(X_test,y_test)\n",
        "print('Test Loss: {}'.format(loss))\n",
        "print('Test Accuracy: {}'.format(accuracy))"
      ],
      "metadata": {
        "colab": {
          "base_uri": "https://localhost:8080/"
        },
        "id": "tGpwWTR_-jF0",
        "outputId": "d1f5c1ea-6684-4457-9d80-319e809abe2b"
      },
      "execution_count": 66,
      "outputs": [
        {
          "output_type": "stream",
          "name": "stdout",
          "text": [
            "33/33 [==============================] - 0s 10ms/step - loss: 1.1148 - acc: 0.7524\n",
            "Test Loss: 1.1148148775100708\n",
            "Test Accuracy: 0.7523719072341919\n"
          ]
        }
      ]
    },
    {
      "cell_type": "code",
      "source": [
        "# ploting train and validation metrics results throu training epochs\n",
        "import matplotlib.pyplot as plt\n",
        "\n",
        "acc = history.history['acc']\n",
        "val_acc = history.history['val_acc']\n",
        "loss = history.history['loss']\n",
        "val_loss = history.history['val_loss']\n",
        "\n",
        "epochs = range(1, len(acc) + 1)\n",
        "\n",
        "plt.plot(epochs, acc, 'bo', label='Training acc')\n",
        "plt.plot(epochs, val_acc, 'b', label='Validation acc')\n",
        "plt.title('Training and validation accuracy')\n",
        "plt.legend()\n",
        "\n",
        "plt.figure()\n",
        "\n",
        "plt.plot(epochs, loss, 'bo', label='Training loss')\n",
        "plt.plot(epochs, val_loss, 'b', label='Validation loss')\n",
        "plt.title('Training and validation loss')\n",
        "plt.legend()\n",
        "\n",
        "plt.show()"
      ],
      "metadata": {
        "colab": {
          "base_uri": "https://localhost:8080/",
          "height": 545
        },
        "id": "Y5vwpikz-jQ5",
        "outputId": "486af1e9-6c34-41df-9dee-ab205dc3f192"
      },
      "execution_count": 67,
      "outputs": [
        {
          "output_type": "display_data",
          "data": {
            "text/plain": [
              "<Figure size 432x288 with 1 Axes>"
            ],
            "image/png": "[encoded data removed]"
          },
          "metadata": {
            "needs_background": "light"
          }
        },
        {
          "output_type": "display_data",
          "data": {
            "text/plain": [
              "<Figure size 432x288 with 1 Axes>"
            ],
            "image/png": "[encoded data removed]"
          },
          "metadata": {
            "needs_background": "light"
          }
        }
      ]
    },
    {
      "cell_type": "code",
      "source": [
        "# making a re-joined string out of 'X' list elements (only keywords and preprocessed tokens)\n",
        "concatenated_preprocessed_tokenized_X = []\n",
        "\n",
        "for idx in range(dataset_size):\n",
        "     concatenated_preprocessed_tokenized_X.append(' '.join(X[idx]))"
      ],
      "metadata": {
        "id": "d2TaSyY4I9O3"
      },
      "execution_count": 47,
      "outputs": []
    },
    {
      "cell_type": "code",
      "source": [
        "concatenated_preprocessed_tokenized_X[0]"
      ],
      "metadata": {
        "colab": {
          "base_uri": "https://localhost:8080/",
          "height": 35
        },
        "id": "wn9jGgwgI9Rh",
        "outputId": "96689e26-f6eb-48b3-d3b0-6bcee2920a61"
      },
      "execution_count": 48,
      "outputs": [
        {
          "output_type": "execute_result",
          "data": {
            "text/plain": [
              "'nutrition super adult labrador breed doberman premium large fidele food dog dane'"
            ],
            "application/vnd.google.colaboratory.intrinsic+json": {
              "type": "string"
            }
          },
          "metadata": {},
          "execution_count": 48
        }
      ]
    },
    {
      "cell_type": "code",
      "source": [
        "n_most_common_words = 8000\n",
        "max_len = len(max(X,key=len))\n",
        "tokenizer = Tokenizer(num_words=n_most_common_words, lower=False)\n",
        "tokenizer.fit_on_texts(concatenated_preprocessed_tokenized_X)\n",
        "sequences = tokenizer.texts_to_sequences(concatenated_preprocessed_tokenized_X)\n",
        "\n",
        "concatenated_preprocessed_tokenized_X = pad_sequences(sequences, maxlen=max_len)"
      ],
      "metadata": {
        "id": "fFsJc0VfI9UK"
      },
      "execution_count": 49,
      "outputs": []
    },
    {
      "cell_type": "code",
      "source": [
        "lb = LabelBinarizer()\n",
        "lb.fit(unique_categories)\n",
        "y = lb.transform(categories)\n",
        "\n",
        "concatenated_preprocessed_tokenized_X, y = shuffle(concatenated_preprocessed_tokenized_X, y, random_state=0)\n",
        "X_train, X_test, y_train, y_test = train_test_split(concatenated_preprocessed_tokenized_X , y, test_size=0.2, random_state=42)"
      ],
      "metadata": {
        "id": "zSzqkhEcI9Wq"
      },
      "execution_count": 50,
      "outputs": []
    },
    {
      "cell_type": "code",
      "source": [
        "epochs = 100\n",
        "emb_dim = 300\n",
        "batch_size = 256"
      ],
      "metadata": {
        "id": "TsEEwj_aI9Y5"
      },
      "execution_count": 56,
      "outputs": []
    },
    {
      "cell_type": "code",
      "source": [
        "print((X_train.shape, y_train.shape, X_test.shape, y_test.shape))\n",
        "\n",
        "model = Sequential()\n",
        "model.add(Embedding(n_most_common_words, emb_dim, input_length=concatenated_preprocessed_tokenized_X.shape[1]))\n",
        "model.add(SpatialDropout1D(0.5))\n",
        "model.add(LSTM(64, dropout=0.5, recurrent_dropout=0.5))\n",
        "#model.add(Dense(32, activation='relu'))\n",
        "model.add(Dense(20, activation='softmax'))\n",
        "model.compile(optimizer='adam', loss='categorical_crossentropy', metrics=['acc'])\n",
        "#print(model.summary())\n",
        "history = model.fit(X_train, y_train, epochs=epochs, batch_size=batch_size, validation_split=0.2,\n",
        "                    callbacks=[EarlyStopping(monitor='val_loss',patience=5, min_delta=0.0001)])"
      ],
      "metadata": {
        "colab": {
          "base_uri": "https://localhost:8080/"
        },
        "id": "_jEQc_jRKUau",
        "outputId": "544b33df-d5b6-41da-89ce-e39d971f667b"
      },
      "execution_count": 57,
      "outputs": [
        {
          "output_type": "stream",
          "name": "stderr",
          "text": [
            "WARNING:tensorflow:Layer lstm_3 will not use cuDNN kernels since it doesn't meet the criteria. It will use a generic GPU kernel as fallback when running on GPU.\n"
          ]
        },
        {
          "output_type": "stream",
          "name": "stdout",
          "text": [
            "((4216, 27), (4216, 20), (1054, 27), (1054, 20))\n",
            "Epoch 1/100\n",
            "14/14 [==============================] - 5s 162ms/step - loss: 2.9363 - acc: 0.1468 - val_loss: 2.7795 - val_acc: 0.1801\n",
            "Epoch 2/100\n",
            "14/14 [==============================] - 2s 136ms/step - loss: 2.6780 - acc: 0.1942 - val_loss: 2.6603 - val_acc: 0.1801\n",
            "Epoch 3/100\n",
            "14/14 [==============================] - 2s 139ms/step - loss: 2.5869 - acc: 0.1948 - val_loss: 2.5814 - val_acc: 0.1813\n",
            "Epoch 4/100\n",
            "14/14 [==============================] - 2s 144ms/step - loss: 2.4577 - acc: 0.2414 - val_loss: 2.3893 - val_acc: 0.2607\n",
            "Epoch 5/100\n",
            "14/14 [==============================] - 2s 134ms/step - loss: 2.1780 - acc: 0.3609 - val_loss: 2.0679 - val_acc: 0.4254\n",
            "Epoch 6/100\n",
            "14/14 [==============================] - 2s 136ms/step - loss: 1.8224 - acc: 0.5317 - val_loss: 1.8451 - val_acc: 0.4727\n",
            "Epoch 7/100\n",
            "14/14 [==============================] - 2s 131ms/step - loss: 1.5056 - acc: 0.6376 - val_loss: 1.5678 - val_acc: 0.6066\n",
            "Epoch 8/100\n",
            "14/14 [==============================] - 2s 141ms/step - loss: 1.2219 - acc: 0.7251 - val_loss: 1.3731 - val_acc: 0.6517\n",
            "Epoch 9/100\n",
            "14/14 [==============================] - 2s 140ms/step - loss: 0.9869 - acc: 0.7800 - val_loss: 1.2618 - val_acc: 0.6647\n",
            "Epoch 10/100\n",
            "14/14 [==============================] - 2s 144ms/step - loss: 0.8000 - acc: 0.8218 - val_loss: 1.1420 - val_acc: 0.6955\n",
            "Epoch 11/100\n",
            "14/14 [==============================] - 2s 144ms/step - loss: 0.6426 - acc: 0.8571 - val_loss: 1.0783 - val_acc: 0.7227\n",
            "Epoch 12/100\n",
            "14/14 [==============================] - 2s 140ms/step - loss: 0.5351 - acc: 0.8787 - val_loss: 1.0364 - val_acc: 0.7370\n",
            "Epoch 13/100\n",
            "14/14 [==============================] - 2s 144ms/step - loss: 0.4410 - acc: 0.9084 - val_loss: 1.0005 - val_acc: 0.7417\n",
            "Epoch 14/100\n",
            "14/14 [==============================] - 2s 142ms/step - loss: 0.3682 - acc: 0.9241 - val_loss: 0.9688 - val_acc: 0.7476\n",
            "Epoch 15/100\n",
            "14/14 [==============================] - 2s 136ms/step - loss: 0.3118 - acc: 0.9386 - val_loss: 0.9717 - val_acc: 0.7607\n",
            "Epoch 16/100\n",
            "14/14 [==============================] - 2s 140ms/step - loss: 0.2653 - acc: 0.9481 - val_loss: 0.9622 - val_acc: 0.7559\n",
            "Epoch 17/100\n",
            "14/14 [==============================] - 2s 134ms/step - loss: 0.2232 - acc: 0.9594 - val_loss: 0.9622 - val_acc: 0.7559\n",
            "Epoch 18/100\n",
            "14/14 [==============================] - 2s 139ms/step - loss: 0.1912 - acc: 0.9686 - val_loss: 0.9810 - val_acc: 0.7607\n",
            "Epoch 19/100\n",
            "14/14 [==============================] - 2s 143ms/step - loss: 0.1593 - acc: 0.9748 - val_loss: 0.9569 - val_acc: 0.7690\n",
            "Epoch 20/100\n",
            "14/14 [==============================] - 2s 138ms/step - loss: 0.1400 - acc: 0.9781 - val_loss: 0.9817 - val_acc: 0.7678\n",
            "Epoch 21/100\n",
            "14/14 [==============================] - 2s 142ms/step - loss: 0.1200 - acc: 0.9852 - val_loss: 0.9776 - val_acc: 0.7666\n",
            "Epoch 22/100\n",
            "14/14 [==============================] - 2s 134ms/step - loss: 0.1063 - acc: 0.9872 - val_loss: 0.9859 - val_acc: 0.7749\n",
            "Epoch 23/100\n",
            "14/14 [==============================] - 2s 137ms/step - loss: 0.0944 - acc: 0.9887 - val_loss: 0.9845 - val_acc: 0.7737\n",
            "Epoch 24/100\n",
            "14/14 [==============================] - 2s 139ms/step - loss: 0.0827 - acc: 0.9920 - val_loss: 0.9871 - val_acc: 0.7725\n"
          ]
        }
      ]
    },
    {
      "cell_type": "code",
      "source": [
        "loss, accuracy = model.evaluate(X_test,y_test)\n",
        "print('Test Loss: {}'.format(loss))\n",
        "print('Test Accuracy: {}'.format(accuracy))"
      ],
      "metadata": {
        "colab": {
          "base_uri": "https://localhost:8080/"
        },
        "id": "pakFK15hKUct",
        "outputId": "466d2df4-e158-4fa1-cae8-df9a65aa8d7e"
      },
      "execution_count": 58,
      "outputs": [
        {
          "output_type": "stream",
          "name": "stdout",
          "text": [
            "33/33 [==============================] - 0s 10ms/step - loss: 0.9021 - acc: 0.7865\n",
            "Test Loss: 0.902147114276886\n",
            "Test Accuracy: 0.7865275144577026\n"
          ]
        }
      ]
    },
    {
      "cell_type": "code",
      "source": [
        "import matplotlib.pyplot as plt\n",
        "\n",
        "acc = history.history['acc']\n",
        "val_acc = history.history['val_acc']\n",
        "loss = history.history['loss']\n",
        "val_loss = history.history['val_loss']\n",
        "\n",
        "epochs = range(1, len(acc) + 1)\n",
        "\n",
        "plt.plot(epochs, acc, 'bo', label='Training acc')\n",
        "plt.plot(epochs, val_acc, 'b', label='Validation acc')\n",
        "plt.title('Training and validation accuracy')\n",
        "plt.legend()\n",
        "\n",
        "plt.figure()\n",
        "\n",
        "plt.plot(epochs, loss, 'bo', label='Training loss')\n",
        "plt.plot(epochs, val_loss, 'b', label='Validation loss')\n",
        "plt.title('Training and validation loss')\n",
        "plt.legend()\n",
        "\n",
        "plt.show()"
      ],
      "metadata": {
        "colab": {
          "base_uri": "https://localhost:8080/",
          "height": 545
        },
        "id": "jnxvaTQWKUeT",
        "outputId": "6b7b6729-b5b0-4567-d8d0-1c2bffc71025"
      },
      "execution_count": null,
      "outputs": [
        {
          "output_type": "display_data",
          "data": {
            "text/plain": [
              "<Figure size 432x288 with 1 Axes>"
            ],
            "image/png": "[encoded data removed]"
          },
          "metadata": {
            "needs_background": "light"
          }
        },
        {
          "output_type": "display_data",
          "data": {
            "text/plain": [
              "<Figure size 432x288 with 1 Axes>"
            ],
            "image/png": "[encoded data removed]"
          },
          "metadata": {
            "needs_background": "light"
          }
        }
      ]
    },
    {
      "cell_type": "code",
      "source": [
        "X = []\n",
        "\n",
        "for idx in range(dataset_size):\n",
        "    if not(idx % 1000): print(idx)\n",
        "    X.append(title_preprocessing(df['title'][idx], wordnet_lemmatizer, translator) +\n",
        "             tag_preprocessing(df['tags'][idx], kw_model, wordnet_lemmatizer, translator))"
      ],
      "metadata": {
        "colab": {
          "base_uri": "https://localhost:8080/"
        },
        "id": "hjqsHixXc_0s",
        "outputId": "aede8acc-5c48-497d-cf13-78b2818591c4"
      },
      "execution_count": 36,
      "outputs": [
        {
          "output_type": "stream",
          "name": "stdout",
          "text": [
            "0\n",
            "1000\n",
            "2000\n",
            "3000\n",
            "4000\n",
            "5000\n"
          ]
        }
      ]
    },
    {
      "cell_type": "code",
      "source": [
        "'''\n",
        "extracting tf-idf vectors as featues for ML classifiers\n",
        "(sentences are made out of re-joining preprocessed tokens)\n",
        "'''\n",
        "from sklearn.feature_extraction.text import TfidfVectorizer\n",
        "\n",
        "tfidfVector = TfidfVectorizer(sublinear_tf=True, min_df=50, norm='l2',\n",
        "                              encoding='latin-1', ngram_range=(1, 2), stop_words='english')\n",
        "\n",
        "concatenated_preprocessed_tokenized_X = []\n",
        "for idx in range(dataset_size):\n",
        "     concatenated_preprocessed_tokenized_X.append(' '.join(X[idx]))\n",
        "df_X = pd.Series(concatenated_preprocessed_tokenized_X)\n",
        "\n",
        "features = tfidfVector.fit_transform(df_X).toarray()\n",
        "features.shape"
      ],
      "metadata": {
        "id": "rWRTZlVKWkJj",
        "colab": {
          "base_uri": "https://localhost:8080/"
        },
        "outputId": "baa915ad-d8ed-498e-d5a0-b122ca9cf8a5"
      },
      "execution_count": 37,
      "outputs": [
        {
          "output_type": "execute_result",
          "data": {
            "text/plain": [
              "(5270, 83)"
            ]
          },
          "metadata": {},
          "execution_count": 37
        }
      ]
    },
    {
      "cell_type": "code",
      "source": [
        "# categorical encodig the labels\n",
        "from sklearn.preprocessing import LabelEncoder\n",
        "\n",
        "lb = LabelEncoder()\n",
        "lb.fit(unique_categories)\n",
        "y = lb.transform(categories)\n",
        "\n",
        "tf_idf_X, y = shuffle(features, y, random_state=0)"
      ],
      "metadata": {
        "id": "6MpGrbnBWP4B"
      },
      "execution_count": 38,
      "outputs": []
    },
    {
      "cell_type": "code",
      "source": [
        "from sklearn.linear_model import LogisticRegression\n",
        "from sklearn.ensemble import RandomForestClassifier\n",
        "from sklearn.svm import LinearSVC\n",
        "from sklearn.naive_bayes import MultinomialNB\n",
        "from sklearn.tree import DecisionTreeClassifier\n",
        "from sklearn.neighbors import KNeighborsClassifier\n",
        "from sklearn.model_selection import cross_val_score\n",
        "\n",
        "# defferent ML algorithms for evaluation\n",
        "models = [\n",
        "    RandomForestClassifier(n_estimators=200, max_depth=3, random_state=0),\n",
        "    LinearSVC(),\n",
        "    MultinomialNB(),\n",
        "    LogisticRegression(random_state=0),\n",
        "    DecisionTreeClassifier(random_state=0, max_depth=20),\n",
        "    KNeighborsClassifier(n_neighbors=5)\n",
        "]\n",
        "\n",
        "accuracies = []\n",
        "for model in models:\n",
        "    accuracies.append(cross_val_score(model, tf_idf_X, y, scoring='accuracy'))\n",
        "\n",
        "for i, acc in enumerate(accuracies):\n",
        "    print(models[i].__class__.__name__, 'acc =', acc.mean())"
      ],
      "metadata": {
        "colab": {
          "base_uri": "https://localhost:8080/"
        },
        "id": "rHHSXT2gRS0d",
        "outputId": "35c7484c-751f-41b4-d230-353704fd7167"
      },
      "execution_count": 39,
      "outputs": [
        {
          "output_type": "stream",
          "name": "stdout",
          "text": [
            "RandomForestClassifier acc = 0.3732447817836812\n",
            "LinearSVC acc = 0.5231499051233396\n",
            "MultinomialNB acc = 0.49810246679316894\n",
            "LogisticRegression acc = 0.522011385199241\n",
            "DecisionTreeClassifier acc = 0.444022770398482\n",
            "KNeighborsClassifier acc = 0.46622390891840604\n"
          ]
        }
      ]
    },
    {
      "cell_type": "code",
      "source": [
        "'''\n",
        " extracting tf-idf vectors as featues for ML classifiers \n",
        "(sentences are made out of concating title and tags columns)\n",
        "'''\n",
        "X_new = []\n",
        "translator = str.maketrans(string.punctuation, ' '*len(string.punctuation))\n",
        "\n",
        "for idx in range(dataset_size):\n",
        "    sentence = df['title'][idx] + ' ' + df['tags'][idx]\n",
        "    sentence = sentence.translate(translator)\n",
        "    sentence = sentence.lower()\n",
        "    X_new.append(sentence)\n",
        "df_X = pd.Series(X_new)\n",
        "\n",
        "features = tfidfVector.fit_transform(df_X).toarray()\n",
        "\n",
        "lb = LabelEncoder()\n",
        "lb.fit(unique_categories)\n",
        "y = lb.transform(categories)\n",
        "tf_idf_X, y = shuffle(features, y, random_state=0)\n",
        "\n",
        "accuracies = []\n",
        "for model in models:\n",
        "    accuracies.append(cross_val_score(model, tf_idf_X, y, scoring='accuracy'))\n",
        "\n",
        "for i, acc in enumerate(accuracies):\n",
        "    print(models[i].__class__.__name__, 'acc =', acc.mean())"
      ],
      "metadata": {
        "colab": {
          "base_uri": "https://localhost:8080/"
        },
        "id": "YCKuvijORS4n",
        "outputId": "b905fe73-d4c0-4ea6-cf0d-c16fb94f5d0a"
      },
      "execution_count": 35,
      "outputs": [
        {
          "output_type": "stream",
          "name": "stdout",
          "text": [
            "RandomForestClassifier acc = 0.3428842504743833\n",
            "LinearSVC acc = 0.5768500948766604\n",
            "MultinomialNB acc = 0.5502846299810248\n",
            "LogisticRegression acc = 0.5764705882352942\n",
            "DecisionTreeClassifier acc = 0.43074003795066407\n",
            "KNeighborsClassifier acc = 0.5030360531309299\n"
          ]
        }
      ]
    }
  ]
}
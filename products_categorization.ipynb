{
  "nbformat": 4,
  "nbformat_minor": 0,
  "metadata": {
    "colab": {
      "provenance": [],
      "collapsed_sections": []
    },
    "kernelspec": {
      "name": "python3",
      "display_name": "Python 3"
    },
    "language_info": {
      "name": "python"
    },
    "accelerator": "GPU",
    "gpuClass": "standard"
  },
  "cells": [
    {
      "cell_type": "code",
      "execution_count": 52,
      "metadata": {
        "colab": {
          "base_uri": "https://localhost:8080/"
        },
        "id": "VsJpTmnqJxSv",
        "outputId": "b6320c03-4d2d-434d-c63f-79d356425507"
      },
      "outputs": [
        {
          "output_type": "stream",
          "name": "stdout",
          "text": [
            "Drive already mounted at /content/gdrive; to attempt to forcibly remount, call drive.mount(\"/content/gdrive\", force_remount=True).\n"
          ]
        }
      ],
      "source": [
        "import pandas as pd\n",
        "import numpy as np\n",
        "\n",
        "# mounting google drive\n",
        "from google.colab import drive\n",
        "drive.mount('/content/gdrive')"
      ]
    },
    {
      "cell_type": "code",
      "source": [
        "# reading csv dataset file into pandas dataframe\n",
        "dataset_path = '/content/gdrive/MyDrive/Ronash_DS_Assignment.csv'\n",
        "df = pd.read_csv(dataset_path)"
      ],
      "metadata": {
        "id": "7MJQMoYUJ9zO"
      },
      "execution_count": 53,
      "outputs": []
    },
    {
      "cell_type": "code",
      "source": [
        "new_df = pd.DataFrame(columns=df.columns.tolist())\n",
        "df['category'].value_counts()\n",
        "for cat_name in pd.unique(df['category']).tolist():\n",
        "    new_df = pd.concat([new_df, df.loc[df['category'] == cat_name][:20]], axis=0)\n",
        "    \n",
        "new_df['category'].value_counts()"
      ],
      "metadata": {
        "colab": {
          "base_uri": "https://localhost:8080/"
        },
        "id": "1NXeuBA93zXn",
        "outputId": "4e9c4d24-e602-49f5-99a7-ac2fbc8441e7"
      },
      "execution_count": 54,
      "outputs": [
        {
          "output_type": "execute_result",
          "data": {
            "text/plain": [
              "Animals & Pet Supplies       20\n",
              "Apparel & Accessories        20\n",
              "Toys & Games                 20\n",
              "Sporting Goods               20\n",
              "Software                     20\n",
              "Religious & Ceremonial       20\n",
              "Office Supplies              20\n",
              "Media                        20\n",
              "Luggage & Bags               20\n",
              "Home & Garden                20\n",
              "Health & Beauty              20\n",
              "Hardware                     20\n",
              "Furniture                    20\n",
              "Food, Beverages & Tobacco    20\n",
              "Electronics                  20\n",
              "Cameras & Optics             20\n",
              "Business & Industrial        20\n",
              "Baby & Toddler               20\n",
              "Arts & Entertainment         20\n",
              "Vehicles & Parts             20\n",
              "Name: category, dtype: int64"
            ]
          },
          "metadata": {},
          "execution_count": 54
        }
      ]
    },
    {
      "cell_type": "code",
      "source": [
        "# reading titles and tags and label columns\n",
        "titles = df['title'].values.tolist()\n",
        "tags = df['tags'].values.tolist()\n",
        "categories = df['category'].values.tolist()\n",
        "unique_categories = pd.unique(df['category'])\n",
        "\n",
        "dataset_size = len(titles)"
      ],
      "metadata": {
        "id": "XJk3VeipOyH5"
      },
      "execution_count": 55,
      "outputs": []
    },
    {
      "cell_type": "code",
      "source": [
        "# one hot encoding the categories\n",
        "from sklearn.preprocessing import LabelBinarizer\n",
        "\n",
        "lb = LabelBinarizer()\n",
        "lb.fit(unique_categories)\n",
        "y = lb.transform(categories)"
      ],
      "metadata": {
        "id": "F3C65O0SOyLL"
      },
      "execution_count": 56,
      "outputs": []
    },
    {
      "cell_type": "code",
      "source": [
        "df.columns.tolist()"
      ],
      "metadata": {
        "colab": {
          "base_uri": "https://localhost:8080/"
        },
        "id": "PY1dW_oc1r99",
        "outputId": "9b6614f9-6493-43fa-ea97-ed065ae395bd"
      },
      "execution_count": 57,
      "outputs": [
        {
          "output_type": "execute_result",
          "data": {
            "text/plain": [
              "['product_id', 'title', 'vendor', 'tags', 'category']"
            ]
          },
          "metadata": {},
          "execution_count": 57
        }
      ]
    },
    {
      "cell_type": "code",
      "source": [
        "!pip install keybert\n",
        "!pip install gensim"
      ],
      "metadata": {
        "colab": {
          "base_uri": "https://localhost:8080/"
        },
        "id": "4JK4f7qLJ99K",
        "outputId": "1765d0f0-5d93-4a74-a30d-0b123eeb0ee4"
      },
      "execution_count": 58,
      "outputs": [
        {
          "output_type": "stream",
          "name": "stdout",
          "text": [
            "Looking in indexes: https://pypi.org/simple, https://us-python.pkg.dev/colab-wheels/public/simple/\n",
            "Requirement already satisfied: keybert in /usr/local/lib/python3.7/dist-packages (0.6.0)\n",
            "Requirement already satisfied: sentence-transformers>=0.3.8 in /usr/local/lib/python3.7/dist-packages (from keybert) (2.2.2)\n",
            "Requirement already satisfied: rich>=10.4.0 in /usr/local/lib/python3.7/dist-packages (from keybert) (12.5.1)\n",
            "Requirement already satisfied: numpy>=1.18.5 in /usr/local/lib/python3.7/dist-packages (from keybert) (1.21.6)\n",
            "Requirement already satisfied: scikit-learn>=0.22.2 in /usr/local/lib/python3.7/dist-packages (from keybert) (1.0.2)\n",
            "Requirement already satisfied: commonmark<0.10.0,>=0.9.0 in /usr/local/lib/python3.7/dist-packages (from rich>=10.4.0->keybert) (0.9.1)\n",
            "Requirement already satisfied: pygments<3.0.0,>=2.6.0 in /usr/local/lib/python3.7/dist-packages (from rich>=10.4.0->keybert) (2.6.1)\n",
            "Requirement already satisfied: typing-extensions<5.0,>=4.0.0 in /usr/local/lib/python3.7/dist-packages (from rich>=10.4.0->keybert) (4.1.1)\n",
            "Requirement already satisfied: scipy>=1.1.0 in /usr/local/lib/python3.7/dist-packages (from scikit-learn>=0.22.2->keybert) (1.7.3)\n",
            "Requirement already satisfied: threadpoolctl>=2.0.0 in /usr/local/lib/python3.7/dist-packages (from scikit-learn>=0.22.2->keybert) (3.1.0)\n",
            "Requirement already satisfied: joblib>=0.11 in /usr/local/lib/python3.7/dist-packages (from scikit-learn>=0.22.2->keybert) (1.1.0)\n",
            "Requirement already satisfied: tqdm in /usr/local/lib/python3.7/dist-packages (from sentence-transformers>=0.3.8->keybert) (4.64.1)\n",
            "Requirement already satisfied: nltk in /usr/local/lib/python3.7/dist-packages (from sentence-transformers>=0.3.8->keybert) (3.7)\n",
            "Requirement already satisfied: huggingface-hub>=0.4.0 in /usr/local/lib/python3.7/dist-packages (from sentence-transformers>=0.3.8->keybert) (0.10.0)\n",
            "Requirement already satisfied: torch>=1.6.0 in /usr/local/lib/python3.7/dist-packages (from sentence-transformers>=0.3.8->keybert) (1.12.1+cu113)\n",
            "Requirement already satisfied: torchvision in /usr/local/lib/python3.7/dist-packages (from sentence-transformers>=0.3.8->keybert) (0.13.1+cu113)\n",
            "Requirement already satisfied: sentencepiece in /usr/local/lib/python3.7/dist-packages (from sentence-transformers>=0.3.8->keybert) (0.1.97)\n",
            "Requirement already satisfied: transformers<5.0.0,>=4.6.0 in /usr/local/lib/python3.7/dist-packages (from sentence-transformers>=0.3.8->keybert) (4.22.2)\n",
            "Requirement already satisfied: packaging>=20.9 in /usr/local/lib/python3.7/dist-packages (from huggingface-hub>=0.4.0->sentence-transformers>=0.3.8->keybert) (21.3)\n",
            "Requirement already satisfied: filelock in /usr/local/lib/python3.7/dist-packages (from huggingface-hub>=0.4.0->sentence-transformers>=0.3.8->keybert) (3.8.0)\n",
            "Requirement already satisfied: requests in /usr/local/lib/python3.7/dist-packages (from huggingface-hub>=0.4.0->sentence-transformers>=0.3.8->keybert) (2.23.0)\n",
            "Requirement already satisfied: importlib-metadata in /usr/local/lib/python3.7/dist-packages (from huggingface-hub>=0.4.0->sentence-transformers>=0.3.8->keybert) (4.12.0)\n",
            "Requirement already satisfied: pyyaml>=5.1 in /usr/local/lib/python3.7/dist-packages (from huggingface-hub>=0.4.0->sentence-transformers>=0.3.8->keybert) (6.0)\n",
            "Requirement already satisfied: pyparsing!=3.0.5,>=2.0.2 in /usr/local/lib/python3.7/dist-packages (from packaging>=20.9->huggingface-hub>=0.4.0->sentence-transformers>=0.3.8->keybert) (3.0.9)\n",
            "Requirement already satisfied: tokenizers!=0.11.3,<0.13,>=0.11.1 in /usr/local/lib/python3.7/dist-packages (from transformers<5.0.0,>=4.6.0->sentence-transformers>=0.3.8->keybert) (0.12.1)\n",
            "Requirement already satisfied: regex!=2019.12.17 in /usr/local/lib/python3.7/dist-packages (from transformers<5.0.0,>=4.6.0->sentence-transformers>=0.3.8->keybert) (2022.6.2)\n",
            "Requirement already satisfied: zipp>=0.5 in /usr/local/lib/python3.7/dist-packages (from importlib-metadata->huggingface-hub>=0.4.0->sentence-transformers>=0.3.8->keybert) (3.8.1)\n",
            "Requirement already satisfied: click in /usr/local/lib/python3.7/dist-packages (from nltk->sentence-transformers>=0.3.8->keybert) (7.1.2)\n",
            "Requirement already satisfied: urllib3!=1.25.0,!=1.25.1,<1.26,>=1.21.1 in /usr/local/lib/python3.7/dist-packages (from requests->huggingface-hub>=0.4.0->sentence-transformers>=0.3.8->keybert) (1.24.3)\n",
            "Requirement already satisfied: idna<3,>=2.5 in /usr/local/lib/python3.7/dist-packages (from requests->huggingface-hub>=0.4.0->sentence-transformers>=0.3.8->keybert) (2.10)\n",
            "Requirement already satisfied: certifi>=2017.4.17 in /usr/local/lib/python3.7/dist-packages (from requests->huggingface-hub>=0.4.0->sentence-transformers>=0.3.8->keybert) (2022.6.15)\n",
            "Requirement already satisfied: chardet<4,>=3.0.2 in /usr/local/lib/python3.7/dist-packages (from requests->huggingface-hub>=0.4.0->sentence-transformers>=0.3.8->keybert) (3.0.4)\n",
            "Requirement already satisfied: pillow!=8.3.*,>=5.3.0 in /usr/local/lib/python3.7/dist-packages (from torchvision->sentence-transformers>=0.3.8->keybert) (7.1.2)\n",
            "Looking in indexes: https://pypi.org/simple, https://us-python.pkg.dev/colab-wheels/public/simple/\n",
            "Requirement already satisfied: gensim in /usr/local/lib/python3.7/dist-packages (3.6.0)\n",
            "Requirement already satisfied: scipy>=0.18.1 in /usr/local/lib/python3.7/dist-packages (from gensim) (1.7.3)\n",
            "Requirement already satisfied: numpy>=1.11.3 in /usr/local/lib/python3.7/dist-packages (from gensim) (1.21.6)\n",
            "Requirement already satisfied: smart-open>=1.2.1 in /usr/local/lib/python3.7/dist-packages (from gensim) (5.2.1)\n",
            "Requirement already satisfied: six>=1.5.0 in /usr/local/lib/python3.7/dist-packages (from gensim) (1.15.0)\n"
          ]
        }
      ]
    },
    {
      "cell_type": "code",
      "source": [
        "import string\n",
        "import re\n",
        "import nltk\n",
        "nltk.download('stopwords')\n",
        "nltk.download('wordnet')\n",
        "nltk.download('omw-1.4')\n",
        "from nltk.stem.porter import PorterStemmer\n",
        "from nltk.stem import WordNetLemmatizer\n",
        "import tokenize\n",
        "from keybert import KeyBERT\n",
        "import nltk\n",
        "nltk.download('words')\n",
        "\n",
        "# preprocessing eteps applied on the title coulmn\n",
        "def title_preprocessing(title, wordnet_lemmatizer, translator):\n",
        "    title = title.translate(translator)\n",
        "    title = title.lower()\n",
        "    tokens = title.split()\n",
        "    stopwords = nltk.corpus.stopwords.words('english')\n",
        "    tokens = [i for i in tokens if i not in stopwords]\n",
        "    lemm_text = [wordnet_lemmatizer.lemmatize(word) for word in tokens]\n",
        "    return lemm_text\n",
        "'''\n",
        "preprocessing eteps applied on the tags coulmn \n",
        "(almost the same as the title_preprocessing plus keyword extracting step)\n",
        "'''\n",
        "def tag_preprocessing(tag, kw_model, wordnet_lemmatizer, translator):\n",
        "    tag = tag.translate(translator)\n",
        "    tag = tag.lower()\n",
        "    keywords = kw_model.extract_keywords(tag, stop_words=None)\n",
        "    tags_keywords = []\n",
        "    for (key, value) in keywords:\n",
        "        tags_keywords.append(key)\n",
        "    lemm_text = [wordnet_lemmatizer.lemmatize(word) for word in tags_keywords]\n",
        "    return lemm_text"
      ],
      "metadata": {
        "colab": {
          "base_uri": "https://localhost:8080/"
        },
        "id": "q9JpT9GjJ-AC",
        "outputId": "4faebdf0-c526-4a54-eea7-1c8e104ecd58"
      },
      "execution_count": 59,
      "outputs": [
        {
          "output_type": "stream",
          "name": "stderr",
          "text": [
            "[nltk_data] Downloading package stopwords to /root/nltk_data...\n",
            "[nltk_data]   Package stopwords is already up-to-date!\n",
            "[nltk_data] Downloading package wordnet to /root/nltk_data...\n",
            "[nltk_data]   Package wordnet is already up-to-date!\n",
            "[nltk_data] Downloading package omw-1.4 to /root/nltk_data...\n",
            "[nltk_data]   Package omw-1.4 is already up-to-date!\n",
            "[nltk_data] Downloading package words to /root/nltk_data...\n",
            "[nltk_data]   Package words is already up-to-date!\n"
          ]
        }
      ]
    },
    {
      "cell_type": "code",
      "source": [
        "# applying preprocessing methods on tags and titles and store returned tokens for each row of the dataframe in 'X' list\n",
        "X = []\n",
        "\n",
        "kw_model = KeyBERT()\n",
        "porter_stemmer = PorterStemmer()\n",
        "wordnet_lemmatizer = WordNetLemmatizer()\n",
        "translator = str.maketrans(string.punctuation, ' '*len(string.punctuation))\n",
        "\n",
        "for idx in range(dataset_size):\n",
        "    if not(idx % 1000): print(idx)\n",
        "    X.append(list(set(title_preprocessing(df['title'][idx], wordnet_lemmatizer, translator) +\n",
        "                      tag_preprocessing(df['tags'][idx], kw_model, wordnet_lemmatizer, translator))))"
      ],
      "metadata": {
        "colab": {
          "base_uri": "https://localhost:8080/"
        },
        "id": "gQEpWg61ORM0",
        "outputId": "05d681d7-f96d-4097-a58b-c684a975d848"
      },
      "execution_count": 60,
      "outputs": [
        {
          "output_type": "stream",
          "name": "stdout",
          "text": [
            "0\n",
            "1000\n",
            "2000\n",
            "3000\n",
            "4000\n",
            "5000\n"
          ]
        }
      ]
    },
    {
      "cell_type": "code",
      "source": [
        "concatenated_preprocessed_tokenized_X = []\n",
        "\n",
        "for idx in range(dataset_size):\n",
        "     concatenated_preprocessed_tokenized_X.append(' '.join(X[idx]))"
      ],
      "metadata": {
        "id": "ev1r3VVL1GvZ"
      },
      "execution_count": 61,
      "outputs": []
    },
    {
      "cell_type": "code",
      "source": [
        "from keras.preprocessing.text import Tokenizer\n",
        "from keras.preprocessing.sequence import pad_sequences\n",
        "\n",
        "n_most_common_words = 20000\n",
        "max_len = 200\n",
        "tokenizer = Tokenizer(num_words=n_most_common_words)\n",
        "tokenizer.fit_on_texts(concatenated_preprocessed_tokenized_X)\n",
        "sequences = tokenizer.texts_to_sequences(concatenated_preprocessed_tokenized_X)\n",
        "\n",
        "concatenated_preprocessed_tokenized_X = pad_sequences(sequences, maxlen=max_len)"
      ],
      "metadata": {
        "id": "8aaXfKkQ1G0o"
      },
      "execution_count": 62,
      "outputs": []
    },
    {
      "cell_type": "code",
      "source": [
        "from sklearn.utils import shuffle\n",
        "from sklearn.model_selection import train_test_split\n",
        "\n",
        "lb = LabelBinarizer()\n",
        "lb.fit(unique_categories)\n",
        "y = lb.transform(categories)\n",
        "\n",
        "concatenated_preprocessed_tokenized_X, y = shuffle(concatenated_preprocessed_tokenized_X, y, random_state=0)\n",
        "X_train, X_test, y_train, y_test = train_test_split(concatenated_preprocessed_tokenized_X , y, test_size=0.2, random_state=42)"
      ],
      "metadata": {
        "id": "19K_52Qt1Who"
      },
      "execution_count": 63,
      "outputs": []
    },
    {
      "cell_type": "code",
      "source": [
        "import tensorflow as tf\n",
        "from tensorflow import keras\n",
        "from tensorflow.keras.layers import MultiHeadAttention, LayerNormalization, Dropout, Layer\n",
        "from tensorflow.keras.layers import Embedding, Input, GlobalAveragePooling1D, Dense\n",
        "from tensorflow.keras.datasets import imdb\n",
        "from tensorflow.keras.models import Sequential, Model\n",
        "import numpy as np\n",
        "import warnings\n",
        "warnings.filterwarnings(\"ignore\", category=np.VisibleDeprecationWarning)"
      ],
      "metadata": {
        "id": "22wpNvrB0eSv"
      },
      "execution_count": 64,
      "outputs": []
    },
    {
      "cell_type": "code",
      "source": [
        "class TransformerBlock(Layer):\n",
        "    def __init__(self, embed_dim, num_heads, ff_dim, rate=0.1):\n",
        "        super(TransformerBlock, self).__init__()\n",
        "        self.att = MultiHeadAttention(num_heads=num_heads, key_dim=embed_dim)\n",
        "        self.ffn = Sequential(\n",
        "            [Dense(ff_dim, activation=\"relu\"), \n",
        "             Dense(embed_dim),]\n",
        "        )\n",
        "        self.layernorm1 = LayerNormalization(epsilon=1e-6)\n",
        "        self.layernorm2 = LayerNormalization(epsilon=1e-6)\n",
        "        self.dropout1 = Dropout(rate)\n",
        "        self.dropout2 = Dropout(rate)\n",
        "\n",
        "    def call(self, inputs, training):\n",
        "        attn_output = self.att(inputs, inputs)\n",
        "        attn_output = self.dropout1(attn_output, training=training)\n",
        "        out1 = self.layernorm1(inputs + attn_output)\n",
        "        ffn_output = self.ffn(out1)\n",
        "        ffn_output = self.dropout2(ffn_output, training=training)\n",
        "        return self.layernorm2(out1 + ffn_output)"
      ],
      "metadata": {
        "id": "KQx2peLb0eQ5"
      },
      "execution_count": 65,
      "outputs": []
    },
    {
      "cell_type": "code",
      "source": [
        "class TokenAndPositionEmbedding(Layer):\n",
        "    def __init__(self, maxlen, vocab_size, embed_dim):\n",
        "        super(TokenAndPositionEmbedding, self).__init__()\n",
        "        self.token_emb = Embedding(input_dim=vocab_size, output_dim=embed_dim)\n",
        "        self.pos_emb = Embedding(input_dim=maxlen, output_dim=embed_dim)\n",
        "\n",
        "    def call(self, x):\n",
        "        maxlen = tf.shape(x)[-1]\n",
        "        positions = tf.range(start=0, limit=maxlen, delta=1)\n",
        "        positions = self.pos_emb(positions)\n",
        "        x = self.token_emb(x)\n",
        "        return x + positions"
      ],
      "metadata": {
        "id": "WY4Kebwn0eMR"
      },
      "execution_count": 66,
      "outputs": []
    },
    {
      "cell_type": "code",
      "source": [
        "vocab_size = 20000  # Only consider the top 20k words\n",
        "maxlen = 200  # Only consider the first 200 words of each movie review\n",
        "\n",
        "embed_dim = 100  # Embedding size for each token\n",
        "num_heads = 2  # Number of attention heads\n",
        "ff_dim = 32  # Hidden layer size in feed forward network inside transformer\n",
        "\n",
        "inputs = Input(shape=(maxlen,))\n",
        "embedding_layer = TokenAndPositionEmbedding(maxlen, vocab_size, embed_dim)\n",
        "x = embedding_layer(inputs)\n",
        "transformer_block = TransformerBlock(embed_dim, num_heads, ff_dim)\n",
        "x = transformer_block(x)\n",
        "x = GlobalAveragePooling1D()(x)\n",
        "x = Dropout(0.1)(x)\n",
        "x = Dense(20, activation=\"relu\")(x)\n",
        "x = Dropout(0.1)(x)\n",
        "outputs = Dense(20, activation=\"softmax\")(x)\n",
        "\n",
        "model = Model(inputs=inputs, outputs=outputs)"
      ],
      "metadata": {
        "id": "DiYMMSg40eI5"
      },
      "execution_count": 18,
      "outputs": []
    },
    {
      "cell_type": "code",
      "source": [
        "model.compile(optimizer=\"adam\", loss=\"categorical_crossentropy\", metrics=[\"accuracy\"])\n",
        "\n",
        "from keras.callbacks import EarlyStopping\n",
        "history = model.fit(X_train, y_train, \n",
        "                    batch_size=64, epochs=100, \n",
        "                    validation_split=0.1,\n",
        "                    callbacks=[EarlyStopping(monitor='val_loss',patience=5, min_delta=0.0001)]\n",
        "                   )"
      ],
      "metadata": {
        "colab": {
          "base_uri": "https://localhost:8080/"
        },
        "id": "hgjgucam0d8x",
        "outputId": "a7a48311-3f59-4ca4-948b-059034cd4911"
      },
      "execution_count": 25,
      "outputs": [
        {
          "output_type": "stream",
          "name": "stdout",
          "text": [
            "Epoch 1/100\n",
            "60/60 [==============================] - 3s 24ms/step - loss: 0.0146 - accuracy: 0.9971 - val_loss: 3.9158 - val_accuracy: 0.7014\n",
            "Epoch 2/100\n",
            "60/60 [==============================] - 1s 18ms/step - loss: 0.0171 - accuracy: 0.9968 - val_loss: 4.0713 - val_accuracy: 0.7014\n",
            "Epoch 3/100\n",
            "60/60 [==============================] - 1s 18ms/step - loss: 0.0066 - accuracy: 0.9982 - val_loss: 4.2698 - val_accuracy: 0.7180\n",
            "Epoch 4/100\n",
            "60/60 [==============================] - 1s 18ms/step - loss: 0.0205 - accuracy: 0.9942 - val_loss: 3.6290 - val_accuracy: 0.6919\n",
            "Epoch 5/100\n",
            "60/60 [==============================] - 1s 18ms/step - loss: 0.0235 - accuracy: 0.9926 - val_loss: 3.4920 - val_accuracy: 0.7227\n",
            "Epoch 6/100\n",
            "60/60 [==============================] - 1s 18ms/step - loss: 0.0190 - accuracy: 0.9950 - val_loss: 3.9938 - val_accuracy: 0.7133\n",
            "Epoch 7/100\n",
            "60/60 [==============================] - 1s 18ms/step - loss: 0.0073 - accuracy: 0.9982 - val_loss: 4.0142 - val_accuracy: 0.7062\n",
            "Epoch 8/100\n",
            "60/60 [==============================] - 1s 18ms/step - loss: 0.0062 - accuracy: 0.9987 - val_loss: 3.9205 - val_accuracy: 0.7227\n",
            "Epoch 9/100\n",
            "60/60 [==============================] - 1s 18ms/step - loss: 0.0088 - accuracy: 0.9979 - val_loss: 4.0827 - val_accuracy: 0.7251\n",
            "Epoch 10/100\n",
            "60/60 [==============================] - 1s 18ms/step - loss: 0.0049 - accuracy: 0.9989 - val_loss: 4.1609 - val_accuracy: 0.7133\n"
          ]
        }
      ]
    },
    {
      "cell_type": "code",
      "source": [
        "loss, accuracy = model.evaluate(X_test,y_test)\n",
        "print('Test Loss: {}'.format(loss))\n",
        "print('Test Accuracy: {}'.format(accuracy))"
      ],
      "metadata": {
        "colab": {
          "base_uri": "https://localhost:8080/"
        },
        "id": "0Ptz3aGb3Bok",
        "outputId": "d0e42ab6-4259-4101-e689-0dd15a5fcb1d"
      },
      "execution_count": 26,
      "outputs": [
        {
          "output_type": "stream",
          "name": "stdout",
          "text": [
            "33/33 [==============================] - 0s 7ms/step - loss: 4.1875 - accuracy: 0.7059\n",
            "Test Loss: 4.187488555908203\n",
            "Test Accuracy: 0.7058823704719543\n"
          ]
        }
      ]
    },
    {
      "cell_type": "code",
      "source": [
        "import matplotlib.pyplot as plt\n",
        "\n",
        "acc = history.history['accuracy']\n",
        "val_acc = history.history['val_accuracy']\n",
        "loss = history.history['loss']\n",
        "val_loss = history.history['val_loss']\n",
        "\n",
        "epochs = range(1, len(acc) + 1)\n",
        "\n",
        "plt.plot(epochs, acc, 'bo', label='Training acc')\n",
        "plt.plot(epochs, val_acc, 'b', label='Validation acc')\n",
        "plt.title('Training and validation accuracy')\n",
        "plt.legend()\n",
        "\n",
        "plt.figure()\n",
        "\n",
        "plt.plot(epochs, loss, 'bo', label='Training loss')\n",
        "plt.plot(epochs, val_loss, 'b', label='Validation loss')\n",
        "plt.title('Training and validation loss')\n",
        "plt.legend()\n",
        "\n",
        "plt.show()"
      ],
      "metadata": {
        "colab": {
          "base_uri": "https://localhost:8080/",
          "height": 545
        },
        "id": "ZS9G_AGE24bD",
        "outputId": "01b7ef69-f5dd-4940-c01d-c4f11a97aaae"
      },
      "execution_count": 27,
      "outputs": [
        {
          "output_type": "display_data",
          "data": {
            "text/plain": [
              "<Figure size 432x288 with 1 Axes>"
            ],
            "image/png": "[encoded data removed]"
          },
          "metadata": {
            "needs_background": "light"
          }
        },
        {
          "output_type": "display_data",
          "data": {
            "text/plain": [
              "<Figure size 432x288 with 1 Axes>"
            ],
            "image/png": "[encoded data removed]"
          },
          "metadata": {
            "needs_background": "light"
          }
        }
      ]
    },
    {
      "cell_type": "code",
      "source": [
        "import numpy as np \n",
        "import pandas as pd \n",
        "from keras.layers import Dense, Embedding, LSTM, SpatialDropout1D\n",
        "from keras.models import Sequential\n",
        "from sklearn.feature_extraction.text import CountVectorizer\n",
        "from keras.preprocessing.text import Tokenizer\n",
        "from keras.preprocessing.sequence import pad_sequences\n",
        "from sklearn.model_selection import train_test_split\n",
        "from keras.utils.np_utils import to_categorical\n",
        "from keras.callbacks import EarlyStopping"
      ],
      "metadata": {
        "id": "h1Dx39d27TcR"
      },
      "execution_count": 20,
      "outputs": []
    },
    {
      "cell_type": "code",
      "source": [
        "# make a joined string by concating tags and titles of each row of the df\n",
        "X_new = []\n",
        "\n",
        "for idx in range(dataset_size):\n",
        "    X_new.append(df['title'][idx] + ' ' + df['tags'][idx])"
      ],
      "metadata": {
        "id": "Jz1pFvXiBr07"
      },
      "execution_count": null,
      "outputs": []
    },
    {
      "cell_type": "code",
      "source": [
        "X_new[0]"
      ],
      "metadata": {
        "colab": {
          "base_uri": "https://localhost:8080/",
          "height": 52
        },
        "id": "xggrHeQvCFfp",
        "outputId": "9e25e8f1-59f6-4aaa-f58a-3da5643af58f"
      },
      "execution_count": null,
      "outputs": [
        {
          "output_type": "execute_result",
          "data": {
            "text/plain": [
              "\"Fidele Super Premium Adult Large Breed Dog Food ['Adult', 'Bangalore', 'Chennai', 'Chicken', 'Doberman', 'Dog Dry Foods', 'Fidele', 'German Shepherd', 'Golden Retriever', 'Great Dane', 'HighPriority', 'Imported', 'Labrador', 'Less than 1000', 'Less than 2000', 'Less than 500', 'Mastiff', 'Orange Pet Nutrition']\""
            ],
            "application/vnd.google.colaboratory.intrinsic+json": {
              "type": "string"
            }
          },
          "metadata": {},
          "execution_count": 60
        }
      ]
    },
    {
      "cell_type": "code",
      "source": [
        "'''\n",
        "filtering out bad characters from the joined strings list and\n",
        "the ctreate a numerical list for each sentence\n",
        "'''\n",
        "n_most_common_words = 8000\n",
        "max_len = len(max(X,key=len))\n",
        "tokenizer = Tokenizer(num_words=n_most_common_words, \n",
        "                      filters='1234567890!\"#$%&()*+,-./:;<=>?@[\\]^_`{|}~', lower=True)\n",
        "tokenizer.fit_on_texts(X_new)\n",
        "sequences = tokenizer.texts_to_sequences(X_new)\n",
        "\n",
        "X_new = pad_sequences(sequences, maxlen=max_len)"
      ],
      "metadata": {
        "id": "g9ThmRqeVcsD"
      },
      "execution_count": null,
      "outputs": []
    },
    {
      "cell_type": "code",
      "source": [
        "X_new.shape"
      ],
      "metadata": {
        "colab": {
          "base_uri": "https://localhost:8080/"
        },
        "id": "s9COJram_KSn",
        "outputId": "ad2e9352-c192-492e-c19f-8d880f628dcc"
      },
      "execution_count": null,
      "outputs": [
        {
          "output_type": "execute_result",
          "data": {
            "text/plain": [
              "(5270, 27)"
            ]
          },
          "metadata": {},
          "execution_count": 62
        }
      ]
    },
    {
      "cell_type": "code",
      "source": [
        "lb = LabelBinarizer()\n",
        "lb.fit(unique_categories)\n",
        "y = lb.transform(categories)\n",
        "\n",
        "# shuffling X and y to get bether results\n",
        "X_new, y = shuffle(X_new, y, random_state=0)\n",
        "\n",
        "# spling X and y into test and train sub-sets\n",
        "X_train, X_test, y_train, y_test = train_test_split(X_new , y, test_size=0.2, random_state=42)"
      ],
      "metadata": {
        "id": "RPBXe7jC7dK7"
      },
      "execution_count": null,
      "outputs": []
    },
    {
      "cell_type": "code",
      "source": [
        "# setting hyper-parameters\n",
        "epochs = 100\n",
        "emb_dim = 300\n",
        "batch_size = 256"
      ],
      "metadata": {
        "id": "OHKllUHs7dQ0"
      },
      "execution_count": null,
      "outputs": []
    },
    {
      "cell_type": "code",
      "source": [
        "print((X_train.shape, y_train.shape, X_test.shape, y_test.shape))\n",
        "\n",
        "# creating an LSTM based 20-classes classifier with word embedding layer\n",
        "model = Sequential()\n",
        "model.add(Embedding(n_most_common_words, emb_dim, input_length=X_new.shape[1]))\n",
        "model.add(SpatialDropout1D(0.7))\n",
        "model.add(LSTM(64, dropout=0.5, recurrent_dropout=0.7))\n",
        "#model.add(Dense(32, activation='relu'))\n",
        "model.add(Dense(20, activation='softmax'))\n",
        "model.compile(optimizer='adam', loss='categorical_crossentropy', metrics=['acc'])\n",
        "#print(model.summary())\n",
        "history = model.fit(X_train, y_train, epochs=epochs, batch_size=batch_size,validation_split=0.1,\n",
        "                    callbacks=[EarlyStopping(monitor='val_loss',patience=10, min_delta=0.0001)])"
      ],
      "metadata": {
        "colab": {
          "base_uri": "https://localhost:8080/"
        },
        "id": "3SufSL9Z9Jae",
        "outputId": "2274e22e-9406-437c-e63d-929d2450cf6a"
      },
      "execution_count": null,
      "outputs": [
        {
          "output_type": "stream",
          "name": "stderr",
          "text": [
            "WARNING:tensorflow:Layer lstm_4 will not use cuDNN kernels since it doesn't meet the criteria. It will use a generic GPU kernel as fallback when running on GPU.\n"
          ]
        },
        {
          "output_type": "stream",
          "name": "stdout",
          "text": [
            "((4216, 27), (4216, 20), (1054, 27), (1054, 20))\n",
            "Epoch 1/100\n",
            "15/15 [==============================] - 5s 170ms/step - loss: 2.9699 - acc: 0.1162 - val_loss: 2.9165 - val_acc: 0.1872\n",
            "Epoch 2/100\n",
            "15/15 [==============================] - 2s 143ms/step - loss: 2.8078 - acc: 0.1924 - val_loss: 2.7185 - val_acc: 0.1872\n",
            "Epoch 3/100\n",
            "15/15 [==============================] - 2s 145ms/step - loss: 2.6528 - acc: 0.1948 - val_loss: 2.6393 - val_acc: 0.1872\n",
            "Epoch 4/100\n",
            "15/15 [==============================] - 2s 140ms/step - loss: 2.5761 - acc: 0.2066 - val_loss: 2.5382 - val_acc: 0.2251\n",
            "Epoch 5/100\n",
            "15/15 [==============================] - 2s 136ms/step - loss: 2.4585 - acc: 0.2588 - val_loss: 2.3807 - val_acc: 0.2701\n",
            "Epoch 6/100\n",
            "15/15 [==============================] - 4s 286ms/step - loss: 2.2734 - acc: 0.3245 - val_loss: 2.2192 - val_acc: 0.3104\n",
            "Epoch 7/100\n",
            "15/15 [==============================] - 2s 138ms/step - loss: 2.0828 - acc: 0.4030 - val_loss: 2.0339 - val_acc: 0.4289\n",
            "Epoch 8/100\n",
            "15/15 [==============================] - 2s 138ms/step - loss: 1.8637 - acc: 0.5058 - val_loss: 1.8340 - val_acc: 0.5000\n",
            "Epoch 9/100\n",
            "15/15 [==============================] - 3s 176ms/step - loss: 1.6777 - acc: 0.5749 - val_loss: 1.6807 - val_acc: 0.5616\n",
            "Epoch 10/100\n",
            "15/15 [==============================] - 2s 145ms/step - loss: 1.4810 - acc: 0.6194 - val_loss: 1.5442 - val_acc: 0.5806\n",
            "Epoch 11/100\n",
            "15/15 [==============================] - 2s 135ms/step - loss: 1.3073 - acc: 0.6716 - val_loss: 1.4547 - val_acc: 0.6161\n",
            "Epoch 12/100\n",
            "15/15 [==============================] - 2s 137ms/step - loss: 1.1656 - acc: 0.7043 - val_loss: 1.4051 - val_acc: 0.6398\n",
            "Epoch 13/100\n",
            "15/15 [==============================] - 2s 135ms/step - loss: 1.0584 - acc: 0.7248 - val_loss: 1.3418 - val_acc: 0.6540\n",
            "Epoch 14/100\n",
            "15/15 [==============================] - 2s 135ms/step - loss: 0.9638 - acc: 0.7567 - val_loss: 1.2687 - val_acc: 0.6730\n",
            "Epoch 15/100\n",
            "15/15 [==============================] - 2s 134ms/step - loss: 0.8612 - acc: 0.7852 - val_loss: 1.2180 - val_acc: 0.6872\n",
            "Epoch 16/100\n",
            "15/15 [==============================] - 2s 139ms/step - loss: 0.7974 - acc: 0.8007 - val_loss: 1.2321 - val_acc: 0.6991\n",
            "Epoch 17/100\n",
            "15/15 [==============================] - 2s 142ms/step - loss: 0.7207 - acc: 0.8192 - val_loss: 1.1844 - val_acc: 0.7133\n",
            "Epoch 18/100\n",
            "15/15 [==============================] - 2s 133ms/step - loss: 0.6620 - acc: 0.8332 - val_loss: 1.1647 - val_acc: 0.7133\n",
            "Epoch 19/100\n",
            "15/15 [==============================] - 2s 144ms/step - loss: 0.6029 - acc: 0.8429 - val_loss: 1.2186 - val_acc: 0.7275\n",
            "Epoch 20/100\n",
            "15/15 [==============================] - 2s 141ms/step - loss: 0.5668 - acc: 0.8535 - val_loss: 1.1864 - val_acc: 0.7370\n",
            "Epoch 21/100\n",
            "15/15 [==============================] - 2s 138ms/step - loss: 0.5216 - acc: 0.8679 - val_loss: 1.1656 - val_acc: 0.7346\n",
            "Epoch 22/100\n",
            "15/15 [==============================] - 2s 140ms/step - loss: 0.4805 - acc: 0.8814 - val_loss: 1.1711 - val_acc: 0.7441\n",
            "Epoch 23/100\n",
            "15/15 [==============================] - 2s 145ms/step - loss: 0.4468 - acc: 0.8901 - val_loss: 1.1894 - val_acc: 0.7322\n",
            "Epoch 24/100\n",
            "15/15 [==============================] - 2s 134ms/step - loss: 0.4149 - acc: 0.8938 - val_loss: 1.2288 - val_acc: 0.7393\n",
            "Epoch 25/100\n",
            "15/15 [==============================] - 2s 137ms/step - loss: 0.3959 - acc: 0.9033 - val_loss: 1.1769 - val_acc: 0.7464\n",
            "Epoch 26/100\n",
            "15/15 [==============================] - 2s 139ms/step - loss: 0.3647 - acc: 0.9083 - val_loss: 1.1704 - val_acc: 0.7536\n",
            "Epoch 27/100\n",
            "15/15 [==============================] - 2s 138ms/step - loss: 0.3469 - acc: 0.9128 - val_loss: 1.1803 - val_acc: 0.7536\n",
            "Epoch 28/100\n",
            "15/15 [==============================] - 2s 140ms/step - loss: 0.3108 - acc: 0.9228 - val_loss: 1.1804 - val_acc: 0.7607\n"
          ]
        }
      ]
    },
    {
      "cell_type": "code",
      "source": [
        "loss, accuracy = model.evaluate(X_test,y_test)\n",
        "print('Test Loss: {}'.format(loss))\n",
        "print('Test Accuracy: {}'.format(accuracy))"
      ],
      "metadata": {
        "colab": {
          "base_uri": "https://localhost:8080/"
        },
        "id": "tGpwWTR_-jF0",
        "outputId": "d1f5c1ea-6684-4457-9d80-319e809abe2b"
      },
      "execution_count": null,
      "outputs": [
        {
          "output_type": "stream",
          "name": "stdout",
          "text": [
            "33/33 [==============================] - 0s 10ms/step - loss: 1.1148 - acc: 0.7524\n",
            "Test Loss: 1.1148148775100708\n",
            "Test Accuracy: 0.7523719072341919\n"
          ]
        }
      ]
    },
    {
      "cell_type": "code",
      "source": [
        "# ploting train and validation metrics results throu training epochs\n",
        "import matplotlib.pyplot as plt\n",
        "\n",
        "acc = history.history['acc']\n",
        "val_acc = history.history['val_acc']\n",
        "loss = history.history['loss']\n",
        "val_loss = history.history['val_loss']\n",
        "\n",
        "epochs = range(1, len(acc) + 1)\n",
        "\n",
        "plt.plot(epochs, acc, 'bo', label='Training acc')\n",
        "plt.plot(epochs, val_acc, 'b', label='Validation acc')\n",
        "plt.title('Training and validation accuracy')\n",
        "plt.legend()\n",
        "\n",
        "plt.figure()\n",
        "\n",
        "plt.plot(epochs, loss, 'bo', label='Training loss')\n",
        "plt.plot(epochs, val_loss, 'b', label='Validation loss')\n",
        "plt.title('Training and validation loss')\n",
        "plt.legend()\n",
        "\n",
        "plt.show()"
      ],
      "metadata": {
        "colab": {
          "base_uri": "https://localhost:8080/",
          "height": 545
        },
        "id": "Y5vwpikz-jQ5",
        "outputId": "486af1e9-6c34-41df-9dee-ab205dc3f192"
      },
      "execution_count": null,
      "outputs": [
        {
          "output_type": "display_data",
          "data": {
            "text/plain": [
              "<Figure size 432x288 with 1 Axes>"
            ],
            "image/png": "[encoded data removed]"
          },
          "metadata": {
            "needs_background": "light"
          }
        },
        {
          "output_type": "display_data",
          "data": {
            "text/plain": [
              "<Figure size 432x288 with 1 Axes>"
            ],
            "image/png": "[encoded data removed]"
          },
          "metadata": {
            "needs_background": "light"
          }
        }
      ]
    },
    {
      "cell_type": "code",
      "source": [
        "# making a re-joined string out of 'X' list elements (only keywords and preprocessed tokens)\n",
        "concatenated_preprocessed_tokenized_X = []\n",
        "\n",
        "for idx in range(dataset_size):\n",
        "     concatenated_preprocessed_tokenized_X.append(' '.join(X[idx]))"
      ],
      "metadata": {
        "id": "d2TaSyY4I9O3"
      },
      "execution_count": null,
      "outputs": []
    },
    {
      "cell_type": "code",
      "source": [
        "concatenated_preprocessed_tokenized_X[0]"
      ],
      "metadata": {
        "colab": {
          "base_uri": "https://localhost:8080/",
          "height": 35
        },
        "id": "wn9jGgwgI9Rh",
        "outputId": "96689e26-f6eb-48b3-d3b0-6bcee2920a61"
      },
      "execution_count": null,
      "outputs": [
        {
          "output_type": "execute_result",
          "data": {
            "text/plain": [
              "'nutrition super adult labrador breed doberman premium large fidele food dog dane'"
            ],
            "application/vnd.google.colaboratory.intrinsic+json": {
              "type": "string"
            }
          },
          "metadata": {},
          "execution_count": 48
        }
      ]
    },
    {
      "cell_type": "code",
      "source": [
        "n_most_common_words = 8000\n",
        "max_len = len(max(X,key=len))\n",
        "tokenizer = Tokenizer(num_words=n_most_common_words, lower=False)\n",
        "tokenizer.fit_on_texts(concatenated_preprocessed_tokenized_X)\n",
        "sequences = tokenizer.texts_to_sequences(concatenated_preprocessed_tokenized_X)\n",
        "\n",
        "concatenated_preprocessed_tokenized_X = pad_sequences(sequences, maxlen=max_len)"
      ],
      "metadata": {
        "id": "fFsJc0VfI9UK"
      },
      "execution_count": null,
      "outputs": []
    },
    {
      "cell_type": "code",
      "source": [
        "lb = LabelBinarizer()\n",
        "lb.fit(unique_categories)\n",
        "y = lb.transform(categories)\n",
        "\n",
        "concatenated_preprocessed_tokenized_X, y = shuffle(concatenated_preprocessed_tokenized_X, y, random_state=0)\n",
        "X_train, X_test, y_train, y_test = train_test_split(concatenated_preprocessed_tokenized_X , y, test_size=0.2, random_state=42)"
      ],
      "metadata": {
        "id": "zSzqkhEcI9Wq"
      },
      "execution_count": null,
      "outputs": []
    },
    {
      "cell_type": "code",
      "source": [
        "epochs = 100\n",
        "emb_dim = 300\n",
        "batch_size = 256"
      ],
      "metadata": {
        "id": "TsEEwj_aI9Y5"
      },
      "execution_count": null,
      "outputs": []
    },
    {
      "cell_type": "code",
      "source": [
        "print((X_train.shape, y_train.shape, X_test.shape, y_test.shape))\n",
        "\n",
        "model = Sequential()\n",
        "model.add(Embedding(n_most_common_words, emb_dim, input_length=concatenated_preprocessed_tokenized_X.shape[1]))\n",
        "model.add(SpatialDropout1D(0.5))\n",
        "model.add(LSTM(64, dropout=0.5, recurrent_dropout=0.5))\n",
        "#model.add(Dense(32, activation='relu'))\n",
        "model.add(Dense(20, activation='softmax'))\n",
        "model.compile(optimizer='adam', loss='categorical_crossentropy', metrics=['acc'])\n",
        "#print(model.summary())\n",
        "history = model.fit(X_train, y_train, epochs=epochs, batch_size=batch_size, validation_split=0.2,\n",
        "                    callbacks=[EarlyStopping(monitor='val_loss',patience=5, min_delta=0.0001)])"
      ],
      "metadata": {
        "colab": {
          "base_uri": "https://localhost:8080/"
        },
        "id": "_jEQc_jRKUau",
        "outputId": "544b33df-d5b6-41da-89ce-e39d971f667b"
      },
      "execution_count": null,
      "outputs": [
        {
          "output_type": "stream",
          "name": "stderr",
          "text": [
            "WARNING:tensorflow:Layer lstm_3 will not use cuDNN kernels since it doesn't meet the criteria. It will use a generic GPU kernel as fallback when running on GPU.\n"
          ]
        },
        {
          "output_type": "stream",
          "name": "stdout",
          "text": [
            "((4216, 27), (4216, 20), (1054, 27), (1054, 20))\n",
            "Epoch 1/100\n",
            "14/14 [==============================] - 5s 162ms/step - loss: 2.9363 - acc: 0.1468 - val_loss: 2.7795 - val_acc: 0.1801\n",
            "Epoch 2/100\n",
            "14/14 [==============================] - 2s 136ms/step - loss: 2.6780 - acc: 0.1942 - val_loss: 2.6603 - val_acc: 0.1801\n",
            "Epoch 3/100\n",
            "14/14 [==============================] - 2s 139ms/step - loss: 2.5869 - acc: 0.1948 - val_loss: 2.5814 - val_acc: 0.1813\n",
            "Epoch 4/100\n",
            "14/14 [==============================] - 2s 144ms/step - loss: 2.4577 - acc: 0.2414 - val_loss: 2.3893 - val_acc: 0.2607\n",
            "Epoch 5/100\n",
            "14/14 [==============================] - 2s 134ms/step - loss: 2.1780 - acc: 0.3609 - val_loss: 2.0679 - val_acc: 0.4254\n",
            "Epoch 6/100\n",
            "14/14 [==============================] - 2s 136ms/step - loss: 1.8224 - acc: 0.5317 - val_loss: 1.8451 - val_acc: 0.4727\n",
            "Epoch 7/100\n",
            "14/14 [==============================] - 2s 131ms/step - loss: 1.5056 - acc: 0.6376 - val_loss: 1.5678 - val_acc: 0.6066\n",
            "Epoch 8/100\n",
            "14/14 [==============================] - 2s 141ms/step - loss: 1.2219 - acc: 0.7251 - val_loss: 1.3731 - val_acc: 0.6517\n",
            "Epoch 9/100\n",
            "14/14 [==============================] - 2s 140ms/step - loss: 0.9869 - acc: 0.7800 - val_loss: 1.2618 - val_acc: 0.6647\n",
            "Epoch 10/100\n",
            "14/14 [==============================] - 2s 144ms/step - loss: 0.8000 - acc: 0.8218 - val_loss: 1.1420 - val_acc: 0.6955\n",
            "Epoch 11/100\n",
            "14/14 [==============================] - 2s 144ms/step - loss: 0.6426 - acc: 0.8571 - val_loss: 1.0783 - val_acc: 0.7227\n",
            "Epoch 12/100\n",
            "14/14 [==============================] - 2s 140ms/step - loss: 0.5351 - acc: 0.8787 - val_loss: 1.0364 - val_acc: 0.7370\n",
            "Epoch 13/100\n",
            "14/14 [==============================] - 2s 144ms/step - loss: 0.4410 - acc: 0.9084 - val_loss: 1.0005 - val_acc: 0.7417\n",
            "Epoch 14/100\n",
            "14/14 [==============================] - 2s 142ms/step - loss: 0.3682 - acc: 0.9241 - val_loss: 0.9688 - val_acc: 0.7476\n",
            "Epoch 15/100\n",
            "14/14 [==============================] - 2s 136ms/step - loss: 0.3118 - acc: 0.9386 - val_loss: 0.9717 - val_acc: 0.7607\n",
            "Epoch 16/100\n",
            "14/14 [==============================] - 2s 140ms/step - loss: 0.2653 - acc: 0.9481 - val_loss: 0.9622 - val_acc: 0.7559\n",
            "Epoch 17/100\n",
            "14/14 [==============================] - 2s 134ms/step - loss: 0.2232 - acc: 0.9594 - val_loss: 0.9622 - val_acc: 0.7559\n",
            "Epoch 18/100\n",
            "14/14 [==============================] - 2s 139ms/step - loss: 0.1912 - acc: 0.9686 - val_loss: 0.9810 - val_acc: 0.7607\n",
            "Epoch 19/100\n",
            "14/14 [==============================] - 2s 143ms/step - loss: 0.1593 - acc: 0.9748 - val_loss: 0.9569 - val_acc: 0.7690\n",
            "Epoch 20/100\n",
            "14/14 [==============================] - 2s 138ms/step - loss: 0.1400 - acc: 0.9781 - val_loss: 0.9817 - val_acc: 0.7678\n",
            "Epoch 21/100\n",
            "14/14 [==============================] - 2s 142ms/step - loss: 0.1200 - acc: 0.9852 - val_loss: 0.9776 - val_acc: 0.7666\n",
            "Epoch 22/100\n",
            "14/14 [==============================] - 2s 134ms/step - loss: 0.1063 - acc: 0.9872 - val_loss: 0.9859 - val_acc: 0.7749\n",
            "Epoch 23/100\n",
            "14/14 [==============================] - 2s 137ms/step - loss: 0.0944 - acc: 0.9887 - val_loss: 0.9845 - val_acc: 0.7737\n",
            "Epoch 24/100\n",
            "14/14 [==============================] - 2s 139ms/step - loss: 0.0827 - acc: 0.9920 - val_loss: 0.9871 - val_acc: 0.7725\n"
          ]
        }
      ]
    },
    {
      "cell_type": "code",
      "source": [
        "loss, accuracy = model.evaluate(X_test,y_test)\n",
        "print('Test Loss: {}'.format(loss))\n",
        "print('Test Accuracy: {}'.format(accuracy))"
      ],
      "metadata": {
        "colab": {
          "base_uri": "https://localhost:8080/"
        },
        "id": "pakFK15hKUct",
        "outputId": "466d2df4-e158-4fa1-cae8-df9a65aa8d7e"
      },
      "execution_count": null,
      "outputs": [
        {
          "output_type": "stream",
          "name": "stdout",
          "text": [
            "33/33 [==============================] - 0s 10ms/step - loss: 0.9021 - acc: 0.7865\n",
            "Test Loss: 0.902147114276886\n",
            "Test Accuracy: 0.7865275144577026\n"
          ]
        }
      ]
    },
    {
      "cell_type": "code",
      "source": [
        "import matplotlib.pyplot as plt\n",
        "\n",
        "acc = history.history['acc']\n",
        "val_acc = history.history['val_acc']\n",
        "loss = history.history['loss']\n",
        "val_loss = history.history['val_loss']\n",
        "\n",
        "epochs = range(1, len(acc) + 1)\n",
        "\n",
        "plt.plot(epochs, acc, 'bo', label='Training acc')\n",
        "plt.plot(epochs, val_acc, 'b', label='Validation acc')\n",
        "plt.title('Training and validation accuracy')\n",
        "plt.legend()\n",
        "\n",
        "plt.figure()\n",
        "\n",
        "plt.plot(epochs, loss, 'bo', label='Training loss')\n",
        "plt.plot(epochs, val_loss, 'b', label='Validation loss')\n",
        "plt.title('Training and validation loss')\n",
        "plt.legend()\n",
        "\n",
        "plt.show()"
      ],
      "metadata": {
        "colab": {
          "base_uri": "https://localhost:8080/",
          "height": 545
        },
        "id": "jnxvaTQWKUeT",
        "outputId": "6b7b6729-b5b0-4567-d8d0-1c2bffc71025"
      },
      "execution_count": null,
      "outputs": [
        {
          "output_type": "display_data",
          "data": {
            "text/plain": [
              "<Figure size 432x288 with 1 Axes>"
            ],
            "image/png": "[encoded data removed]"
          },
          "metadata": {
            "needs_background": "light"
          }
        },
        {
          "output_type": "display_data",
          "data": {
            "text/plain": [
              "<Figure size 432x288 with 1 Axes>"
            ],
            "image/png": "[encoded data removed]"
          },
          "metadata": {
            "needs_background": "light"
          }
        }
      ]
    },
    {
      "cell_type": "code",
      "source": [
        "X = []\n",
        "\n",
        "for idx in range(dataset_size):\n",
        "    if not(idx % 1000): print(idx)\n",
        "    X.append(title_preprocessing(df['title'][idx], wordnet_lemmatizer, translator) +\n",
        "             tag_preprocessing(df['tags'][idx], kw_model, wordnet_lemmatizer, translator))"
      ],
      "metadata": {
        "colab": {
          "base_uri": "https://localhost:8080/"
        },
        "id": "hjqsHixXc_0s",
        "outputId": "aede8acc-5c48-497d-cf13-78b2818591c4"
      },
      "execution_count": null,
      "outputs": [
        {
          "output_type": "stream",
          "name": "stdout",
          "text": [
            "0\n",
            "1000\n",
            "2000\n",
            "3000\n",
            "4000\n",
            "5000\n"
          ]
        }
      ]
    },
    {
      "cell_type": "code",
      "source": [
        "'''\n",
        "extracting tf-idf vectors as featues for ML classifiers\n",
        "(sentences are made out of re-joining preprocessed tokens)\n",
        "'''\n",
        "from sklearn.feature_extraction.text import TfidfVectorizer\n",
        "\n",
        "tfidfVector = TfidfVectorizer(sublinear_tf=True, min_df=50, norm='l2',\n",
        "                              encoding='latin-1', ngram_range=(1, 2), stop_words='english')\n",
        "\n",
        "concatenated_preprocessed_tokenized_X = []\n",
        "for idx in range(dataset_size):\n",
        "     concatenated_preprocessed_tokenized_X.append(' '.join(X[idx]))\n",
        "df_X = pd.Series(concatenated_preprocessed_tokenized_X)\n",
        "\n",
        "features = tfidfVector.fit_transform(df_X).toarray()\n",
        "features.shape"
      ],
      "metadata": {
        "id": "rWRTZlVKWkJj",
        "colab": {
          "base_uri": "https://localhost:8080/"
        },
        "outputId": "baa915ad-d8ed-498e-d5a0-b122ca9cf8a5"
      },
      "execution_count": null,
      "outputs": [
        {
          "output_type": "execute_result",
          "data": {
            "text/plain": [
              "(5270, 83)"
            ]
          },
          "metadata": {},
          "execution_count": 37
        }
      ]
    },
    {
      "cell_type": "code",
      "source": [
        "# categorical encodig the labels\n",
        "from sklearn.preprocessing import LabelEncoder\n",
        "\n",
        "lb = LabelEncoder()\n",
        "lb.fit(unique_categories)\n",
        "y = lb.transform(categories)\n",
        "\n",
        "tf_idf_X, y = shuffle(features, y, random_state=0)"
      ],
      "metadata": {
        "id": "6MpGrbnBWP4B"
      },
      "execution_count": null,
      "outputs": []
    },
    {
      "cell_type": "code",
      "source": [
        "from sklearn.linear_model import LogisticRegression\n",
        "from sklearn.ensemble import RandomForestClassifier\n",
        "from sklearn.svm import LinearSVC\n",
        "from sklearn.naive_bayes import MultinomialNB\n",
        "from sklearn.tree import DecisionTreeClassifier\n",
        "from sklearn.neighbors import KNeighborsClassifier\n",
        "from sklearn.model_selection import cross_val_score\n",
        "\n",
        "# defferent ML algorithms for evaluation\n",
        "models = [\n",
        "    RandomForestClassifier(n_estimators=200, max_depth=3, random_state=0),\n",
        "    LinearSVC(),\n",
        "    MultinomialNB(),\n",
        "    LogisticRegression(random_state=0),\n",
        "    DecisionTreeClassifier(random_state=0, max_depth=20),\n",
        "    KNeighborsClassifier(n_neighbors=5)\n",
        "]\n",
        "\n",
        "accuracies = []\n",
        "for model in models:\n",
        "    accuracies.append(cross_val_score(model, tf_idf_X, y, scoring='accuracy'))\n",
        "\n",
        "for i, acc in enumerate(accuracies):\n",
        "    print(models[i].__class__.__name__, 'acc =', acc.mean())"
      ],
      "metadata": {
        "colab": {
          "base_uri": "https://localhost:8080/"
        },
        "id": "rHHSXT2gRS0d",
        "outputId": "35c7484c-751f-41b4-d230-353704fd7167"
      },
      "execution_count": null,
      "outputs": [
        {
          "output_type": "stream",
          "name": "stdout",
          "text": [
            "RandomForestClassifier acc = 0.3732447817836812\n",
            "LinearSVC acc = 0.5231499051233396\n",
            "MultinomialNB acc = 0.49810246679316894\n",
            "LogisticRegression acc = 0.522011385199241\n",
            "DecisionTreeClassifier acc = 0.444022770398482\n",
            "KNeighborsClassifier acc = 0.46622390891840604\n"
          ]
        }
      ]
    },
    {
      "cell_type": "code",
      "source": [
        "'''\n",
        " extracting tf-idf vectors as featues for ML classifiers \n",
        "(sentences are made out of concating title and tags columns)\n",
        "'''\n",
        "X_new = []\n",
        "translator = str.maketrans(string.punctuation, ' '*len(string.punctuation))\n",
        "\n",
        "for idx in range(dataset_size):\n",
        "    sentence = df['title'][idx] + ' ' + df['tags'][idx]\n",
        "    sentence = sentence.translate(translator)\n",
        "    sentence = sentence.lower()\n",
        "    X_new.append(sentence)\n",
        "df_X = pd.Series(X_new)\n",
        "\n",
        "features = tfidfVector.fit_transform(df_X).toarray()\n",
        "\n",
        "lb = LabelEncoder()\n",
        "lb.fit(unique_categories)\n",
        "y = lb.transform(categories)\n",
        "tf_idf_X, y = shuffle(features, y, random_state=0)\n",
        "\n",
        "accuracies = []\n",
        "for model in models:\n",
        "    accuracies.append(cross_val_score(model, tf_idf_X, y, scoring='accuracy'))\n",
        "\n",
        "for i, acc in enumerate(accuracies):\n",
        "    print(models[i].__class__.__name__, 'acc =', acc.mean())"
      ],
      "metadata": {
        "colab": {
          "base_uri": "https://localhost:8080/"
        },
        "id": "YCKuvijORS4n",
        "outputId": "b905fe73-d4c0-4ea6-cf0d-c16fb94f5d0a"
      },
      "execution_count": null,
      "outputs": [
        {
          "output_type": "stream",
          "name": "stdout",
          "text": [
            "RandomForestClassifier acc = 0.3428842504743833\n",
            "LinearSVC acc = 0.5768500948766604\n",
            "MultinomialNB acc = 0.5502846299810248\n",
            "LogisticRegression acc = 0.5764705882352942\n",
            "DecisionTreeClassifier acc = 0.43074003795066407\n",
            "KNeighborsClassifier acc = 0.5030360531309299\n"
          ]
        }
      ]
    }
  ]
}